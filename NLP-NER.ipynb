{
 "cells": [
  {
   "cell_type": "markdown",
   "id": "890e6516",
   "metadata": {},
   "source": [
    "### Les imports"
   ]
  },
  {
   "cell_type": "markdown",
   "id": "001af073",
   "metadata": {},
   "source": [
    "##### génériques"
   ]
  },
  {
   "cell_type": "code",
   "execution_count": 24,
   "id": "3bebbce8",
   "metadata": {},
   "outputs": [],
   "source": [
    "import os\n",
    "import io\n",
    "import re\n",
    "import pandas as pd\n",
    "import numpy as np\n",
    "import unicodedata\n",
    "from tqdm import tqdm\n",
    "import matplotlib.pyplot as plt"
   ]
  },
  {
   "cell_type": "code",
   "execution_count": 25,
   "id": "246ef88d",
   "metadata": {},
   "outputs": [],
   "source": [
    "import sklearn\n",
    "from sklearn import metrics\n",
    "from sklearn_crfsuite import CRF, metrics"
   ]
  },
  {
   "cell_type": "markdown",
   "id": "a77772bc",
   "metadata": {},
   "source": [
    "##### tensorflows"
   ]
  },
  {
   "cell_type": "code",
   "execution_count": 26,
   "id": "f42c22d3",
   "metadata": {},
   "outputs": [],
   "source": [
    "import tensorflow as tf\n",
    "from tensorflow.keras.models import Model\n",
    "from tensorflow.keras import layers, optimizers, regularizers\n",
    "from tensorflow.keras.callbacks import EarlyStopping\n",
    "from tensorflow.keras.utils import plot_model\n",
    "from tensorflow.keras.layers import TextVectorization\n",
    "from tensorflow.keras.utils import plot_model"
   ]
  },
  {
   "cell_type": "code",
   "execution_count": 27,
   "id": "a9483b19",
   "metadata": {},
   "outputs": [],
   "source": [
    "try:\n",
    "    from jyquickhelper import add_notebook_menu \n",
    "except:\n",
    "    !pip install jyquickhelper\n",
    "    from jyquickhelper import add_notebook_menu"
   ]
  },
  {
   "cell_type": "code",
   "execution_count": 28,
   "id": "ac4ceb07",
   "metadata": {},
   "outputs": [
    {
     "data": {
      "text/html": [
       "<div id=\"my_id_menu_nb\">run previous cell, wait for 2 seconds</div>\n",
       "<script>\n",
       "function repeat_indent_string(n){\n",
       "    var a = \"\" ;\n",
       "    for ( ; n > 0 ; --n)\n",
       "        a += \"    \";\n",
       "    return a;\n",
       "}\n",
       "// look up into all sections and builds an automated menu //\n",
       "var update_menu_string = function(begin, lfirst, llast, sformat, send, keep_item, begin_format, end_format) {\n",
       "    var anchors = document.getElementsByClassName(\"section\");\n",
       "    if (anchors.length == 0) {\n",
       "        anchors = document.getElementsByClassName(\"text_cell_render rendered_html\");\n",
       "    }\n",
       "    var i,t;\n",
       "    var text_menu = begin;\n",
       "    var text_memo = \"<pre>\\nlength:\" + anchors.length + \"\\n\";\n",
       "    var ind = \"\";\n",
       "    var memo_level = 1;\n",
       "    var href;\n",
       "    var tags = [];\n",
       "    var main_item = 0;\n",
       "    var format_open = 0;\n",
       "    for (i = 0; i <= llast; i++)\n",
       "        tags.push(\"h\" + i);\n",
       "\n",
       "    for (i = 0; i < anchors.length; i++) {\n",
       "        text_memo += \"**\" + anchors[i].id + \"--\\n\";\n",
       "\n",
       "        var child = null;\n",
       "        for(t = 0; t < tags.length; t++) {\n",
       "            var r = anchors[i].getElementsByTagName(tags[t]);\n",
       "            if (r.length > 0) {\n",
       "child = r[0];\n",
       "break;\n",
       "            }\n",
       "        }\n",
       "        if (child == null) {\n",
       "            text_memo += \"null\\n\";\n",
       "            continue;\n",
       "        }\n",
       "        if (anchors[i].hasAttribute(\"id\")) {\n",
       "            // when converted in RST\n",
       "            href = anchors[i].id;\n",
       "            text_memo += \"#1-\" + href;\n",
       "            // passer à child suivant (le chercher)\n",
       "        }\n",
       "        else if (child.hasAttribute(\"id\")) {\n",
       "            // in a notebook\n",
       "            href = child.id;\n",
       "            text_memo += \"#2-\" + href;\n",
       "        }\n",
       "        else {\n",
       "            text_memo += \"#3-\" + \"*\" + \"\\n\";\n",
       "            continue;\n",
       "        }\n",
       "        var title = child.textContent;\n",
       "        var level = parseInt(child.tagName.substring(1,2));\n",
       "\n",
       "        text_memo += \"--\" + level + \"?\" + lfirst + \"--\" + title + \"\\n\";\n",
       "\n",
       "        if ((level < lfirst) || (level > llast)) {\n",
       "            continue ;\n",
       "        }\n",
       "        if (title.endsWith('¶')) {\n",
       "            title = title.substring(0,title.length-1).replace(\"<\", \"&lt;\")\n",
       "         .replace(\">\", \"&gt;\").replace(\"&\", \"&amp;\");\n",
       "        }\n",
       "        if (title.length == 0) {\n",
       "            continue;\n",
       "        }\n",
       "\n",
       "        while (level < memo_level) {\n",
       "            text_menu += end_format + \"</ul>\\n\";\n",
       "            format_open -= 1;\n",
       "            memo_level -= 1;\n",
       "        }\n",
       "        if (level == lfirst) {\n",
       "            main_item += 1;\n",
       "        }\n",
       "        if (keep_item != -1 && main_item != keep_item + 1) {\n",
       "            // alert(main_item + \" - \" + level + \" - \" + keep_item);\n",
       "            continue;\n",
       "        }\n",
       "        while (level > memo_level) {\n",
       "            text_menu += \"<ul>\\n\";\n",
       "            memo_level += 1;\n",
       "        }\n",
       "        text_menu += repeat_indent_string(level-2);\n",
       "        text_menu += begin_format + sformat.replace(\"__HREF__\", href).replace(\"__TITLE__\", title);\n",
       "        format_open += 1;\n",
       "    }\n",
       "    while (1 < memo_level) {\n",
       "        text_menu += end_format + \"</ul>\\n\";\n",
       "        memo_level -= 1;\n",
       "        format_open -= 1;\n",
       "    }\n",
       "    text_menu += send;\n",
       "    //text_menu += \"\\n\" + text_memo;\n",
       "\n",
       "    while (format_open > 0) {\n",
       "        text_menu += end_format;\n",
       "        format_open -= 1;\n",
       "    }\n",
       "    return text_menu;\n",
       "};\n",
       "var update_menu = function() {\n",
       "    var sbegin = \"\";\n",
       "    var sformat = '<a href=\"#__HREF__\">__TITLE__</a>';\n",
       "    var send = \"\";\n",
       "    var begin_format = '<li>';\n",
       "    var end_format = '</li>';\n",
       "    var keep_item = -1;\n",
       "    var text_menu = update_menu_string(sbegin, 2, 4, sformat, send, keep_item,\n",
       "       begin_format, end_format);\n",
       "    var menu = document.getElementById(\"my_id_menu_nb\");\n",
       "    menu.innerHTML=text_menu;\n",
       "};\n",
       "window.setTimeout(update_menu,2000);\n",
       "            </script>"
      ],
      "text/plain": [
       "<IPython.core.display.HTML object>"
      ]
     },
     "execution_count": 28,
     "metadata": {},
     "output_type": "execute_result"
    }
   ],
   "source": [
    "add_notebook_menu()"
   ]
  },
  {
   "cell_type": "markdown",
   "id": "69717843",
   "metadata": {},
   "source": [
    "## I. Une approche simple avec des réseaux de neurones récurrents\n",
    "\n",
    "### I.a Le dataset\n",
    "\n",
    "\n",
    "Le dataset est composée de phrases en anglais pour lesquelles certains mots sont labélisés. \n",
    "\n",
    "Les labels sont :\n",
    "\n",
    " * personnes (**PER**), \n",
    " * lieux (**LOC**) \n",
    " * organisations (**ORG**)\n",
    " * autres (**O**)\n",
    " \n",
    " "
   ]
  },
  {
   "cell_type": "code",
   "execution_count": 29,
   "id": "7f32b2f9",
   "metadata": {},
   "outputs": [],
   "source": [
    "'''\n",
    "Le fichier texte contenant les données est structuré de la sorte :\n",
    "\n",
    "- Une ligne contient un mot ainsi que ces labels\n",
    "- Les phrases sont séparées d'une ligne blanche\n",
    "\n",
    "ex : \n",
    "\n",
    "EU NNP B-NP B-ORG\n",
    "rejects VBZ B-VP O\n",
    "German JJ B-NP B-MISC\n",
    "call NN I-NP O\n",
    "to TO B-VP O\n",
    "boycott VB I-VP O\n",
    "British JJ B-NP B-MISC\n",
    "lamb NN I-NP O\n",
    ". . O O\n",
    "\n",
    "\n",
    "_read_dataset lit le dataset en paramètre et stocke les phrases dans une liste, sous la forme d'un tuple (mots,position_tag,ner_tag)\n",
    "'''\n",
    "def _read_dataset(filepath):\n",
    "        with open(filepath, encoding=\"utf-8\") as f:\n",
    "            sent = []\n",
    "            for line in f:\n",
    "                if line.startswith(\"-DOCSTART-\") or line == \"\" or line == \"\\n\":\n",
    "                    if sent:\n",
    "                        yield sent\n",
    "                        sent = []\n",
    "                else:\n",
    "                    splits = line.split(\" \")\n",
    "                    token = splits[0]\n",
    "                    pos_tag = splits[1]\n",
    "                    ner_tag = splits[3].rstrip()\n",
    "                    if 'MISC' in ner_tag:\n",
    "                        ner_tag = 'O'\n",
    "                    \n",
    "                    sent.append((token, pos_tag, ner_tag))"
   ]
  },
  {
   "cell_type": "code",
   "execution_count": 30,
   "id": "1b8e221b",
   "metadata": {},
   "outputs": [],
   "source": [
    "train_sents = list(_read_dataset('NER Dataset/train.txt'))\n",
    "test_sents = list(_read_dataset('NER Dataset/test.txt'))"
   ]
  },
  {
   "cell_type": "markdown",
   "id": "5957514b",
   "metadata": {},
   "source": [
    "### I.b Prepocessing"
   ]
  },
  {
   "cell_type": "code",
   "execution_count": 31,
   "id": "7f98637b",
   "metadata": {},
   "outputs": [],
   "source": [
    "# reduced features\n",
    "def reduced_word2features(sent, i):\n",
    "    word = sent[i][0]\n",
    "    postag = sent[i][1]\n",
    "\n",
    "    features = {\n",
    "        'w':word.lower(),\n",
    "    }\n",
    "    \n",
    "    return sent[i][0].lower()"
   ]
  },
  {
   "cell_type": "code",
   "execution_count": 32,
   "id": "f87eab0a",
   "metadata": {},
   "outputs": [],
   "source": [
    "'''\n",
    "renvoie la liste des features (mots) de la phrase en paramètre\n",
    "'''\n",
    "def sent2features(sent):\n",
    "    return [reduced_word2features(sent, i) for i in range(len(sent))]\n",
    "\n",
    "'''\n",
    "renvoie la liste des labels de la phrase en paramètre\n",
    "'''\n",
    "def sent2labels(sent):\n",
    "    return [label for token, postag, label in sent]\n",
    "\n",
    "def sent2tokens(sent):\n",
    "    return [token for token, postag, label in sent]"
   ]
  },
  {
   "cell_type": "code",
   "execution_count": 33,
   "id": "61aa691a",
   "metadata": {},
   "outputs": [],
   "source": [
    "X_train = [sent2features(s) for s in train_sents]\n",
    "y_train = [sent2labels(s) for s in train_sents]\n",
    "\n",
    "X_test = [sent2features(s) for s in test_sents]\n",
    "y_test = [sent2labels(s) for s in test_sents]"
   ]
  },
  {
   "cell_type": "markdown",
   "id": "d10375e4",
   "metadata": {},
   "source": [
    "On a besoin de connaître la taille de la plus longue phrase du dataset lorsqu'on va construire l'embedding"
   ]
  },
  {
   "cell_type": "code",
   "execution_count": 34,
   "id": "123e83b1",
   "metadata": {},
   "outputs": [
    {
     "data": {
      "text/plain": [
       "113"
      ]
     },
     "execution_count": 34,
     "metadata": {},
     "output_type": "execute_result"
    }
   ],
   "source": [
    "def lengths(data):\n",
    "    return max([len(sent) for sent in data])\n",
    "\n",
    "max_length = lengths(X_train)\n",
    "max_length"
   ]
  },
  {
   "cell_type": "code",
   "execution_count": 35,
   "id": "718f3434",
   "metadata": {},
   "outputs": [],
   "source": [
    "max_length = 20\n",
    "\n",
    "X_vectorizer = TextVectorization(standardize=None,\n",
    "                                 split=\"whitespace\",\n",
    "                                 output_mode=\"int\",\n",
    "                                 output_sequence_length=max_length)\n",
    "\n",
    "x_ = [' '.join(sent) for sent in X_train]\n",
    "X_vectorizer.adapt(x_)\n",
    "X_train_enc = X_vectorizer(x_)\n",
    "\n",
    "x_ = [' '.join(sent) for sent in X_test]\n",
    "X_test_enc = X_vectorizer(x_)"
   ]
  },
  {
   "cell_type": "code",
   "execution_count": 36,
   "id": "b29ffa7f",
   "metadata": {},
   "outputs": [],
   "source": [
    "vocabulary = X_vectorizer.get_vocabulary()"
   ]
  },
  {
   "cell_type": "code",
   "execution_count": 37,
   "id": "0b3333a2",
   "metadata": {},
   "outputs": [],
   "source": [
    "y_vectorizer = TextVectorization(standardize=None,\n",
    "                                 split=\"whitespace\",\n",
    "                                 output_mode=\"int\",\n",
    "                                 output_sequence_length=max_length)\n",
    "\n",
    "x_ = [' '.join(sent) for sent in y_train]\n",
    "y_vectorizer.adapt(x_)\n",
    "y_train_enc = y_vectorizer(x_)\n",
    "\n",
    "x_ = [' '.join(sent) for sent in y_test]\n",
    "y_test_enc = y_vectorizer(x_)"
   ]
  },
  {
   "cell_type": "code",
   "execution_count": 38,
   "id": "78f8b6f0",
   "metadata": {},
   "outputs": [
    {
     "data": {
      "text/plain": [
       "['', '[UNK]', 'O', 'B-LOC', 'B-PER', 'B-ORG', 'I-PER', 'I-ORG', 'I-LOC']"
      ]
     },
     "execution_count": 38,
     "metadata": {},
     "output_type": "execute_result"
    }
   ],
   "source": [
    "labels = y_vectorizer.get_vocabulary()\n",
    "labels"
   ]
  },
  {
   "cell_type": "markdown",
   "id": "4ce256d7",
   "metadata": {},
   "source": [
    "### I.c Modèle *Baseline*"
   ]
  },
  {
   "cell_type": "code",
   "execution_count": 39,
   "id": "536c5d07",
   "metadata": {},
   "outputs": [],
   "source": [
    "crf = CRF(\n",
    "    algorithm='lbfgs',\n",
    "    c1=0.1,\n",
    "    c2=0.1,\n",
    "    max_iterations=100,\n",
    "    all_possible_transitions=True\n",
    ")\n",
    "\n",
    "try: # https://stackoverflow.com/questions/66059532/attributeerror-crf-object-has-no-attribute-keep-tempfiles\n",
    "    crf.fit(X_train, y_train)\n",
    "except AttributeError:\n",
    "    pass"
   ]
  },
  {
   "cell_type": "code",
   "execution_count": 40,
   "id": "5eb91ad1",
   "metadata": {},
   "outputs": [],
   "source": [
    "y_pred = crf.predict(X_test)\n",
    "labels_list = list(crf.classes_)"
   ]
  },
  {
   "cell_type": "code",
   "execution_count": 41,
   "id": "9b60663d",
   "metadata": {},
   "outputs": [
    {
     "data": {
      "text/plain": [
       "0.8055111833833511"
      ]
     },
     "execution_count": 41,
     "metadata": {},
     "output_type": "execute_result"
    }
   ],
   "source": [
    "metrics.flat_f1_score(y_test, y_pred, average='weighted', labels=labels_list)"
   ]
  },
  {
   "cell_type": "code",
   "execution_count": 42,
   "id": "9b9cd110",
   "metadata": {},
   "outputs": [
    {
     "name": "stdout",
     "output_type": "stream",
     "text": [
      "              precision    recall  f1-score   support\n",
      "\n",
      "       I-LOC      0.163     0.027     0.047       257\n",
      "       I-ORG      0.102     0.032     0.049       834\n",
      "       I-PER      0.404     0.176     0.246      1156\n",
      "\n",
      "   micro avg      0.293     0.106     0.156      2247\n",
      "   macro avg      0.223     0.079     0.114      2247\n",
      "weighted avg      0.264     0.106     0.150      2247\n",
      "\n"
     ]
    }
   ],
   "source": [
    "print(metrics.flat_classification_report(y_test, y_pred, labels=sorted(labels_list)[3:6], digits=3))"
   ]
  },
  {
   "cell_type": "markdown",
   "id": "953567eb",
   "metadata": {},
   "source": [
    "#### Observations\n",
    "\n",
    "Le modèle *baseline* n'est pas performant. Son score F1 de 0.80 s'explique par le fait qu'il classe la plupart des mots dans le label 'O' (other), et étant donné que la majorité des mots du dataset sont classé dans 'O', alors le score F1 pondéré est élevé. \n",
    "\n",
    "En revanche, cela ne traduit pas le fait d'être performant. En effet, le modèle ne sait pas classer les mots qui ne sont pas 'O'. Le score f1 de LOC est 0.05, de ORG est de 0.05 et de PER de 0.25. "
   ]
  },
  {
   "cell_type": "code",
   "execution_count": 43,
   "id": "0e8251cc",
   "metadata": {},
   "outputs": [],
   "source": [
    "result = {\n",
    "    \"baseline\" : [0.150,0.047,0.049,0.246],\n",
    "    \"RNN\" : [],\n",
    "    \"attention\" : []\n",
    "}"
   ]
  },
  {
   "cell_type": "markdown",
   "id": "046467bd",
   "metadata": {},
   "source": [
    "## II. Modèle NER avec Bi-LSTM\n",
    "\n",
    "\n",
    "Dans cette partie, nous tenterons d'améliorer les résultats du modèle en ajoutant une couche BI-RNN.\n",
    "\n",
    "En effet, pour classer un mot dans une phrase, il est parfois nécessaire de connaître le contexte de ce mot. Par exemple, dans les phrases \"I eat an apple\" et \"I went to an apple store to buy a phone\", les mots \"apple\" sont des homonymes. Ils ont la même syntaxe mais n'ont pas le même sens. \n",
    "\n",
    "Les réseaux récurrents bidirectionnelles permettent d'avoir des inputs sur les séquences précédentes et les séquences suivantes d'un mot. Ainsi, le modèle peut classer un mot en ayant une idée du contexte.\n",
    "\n"
   ]
  },
  {
   "cell_type": "markdown",
   "id": "1e4285cc",
   "metadata": {},
   "source": [
    "### II Le modèle\n",
    "\n",
    " "
   ]
  },
  {
   "cell_type": "code",
   "execution_count": 44,
   "id": "1d656bcf",
   "metadata": {},
   "outputs": [],
   "source": [
    "# Constants\n",
    "vocab_size = len(vocabulary)\n",
    "nb_labels = len(labels)\n",
    "\n",
    "max_len = max_length  # Sequence length to pad the outputs to.\n",
    "embedding_dim = 50\n",
    "lstm_hidden = 100"
   ]
  },
  {
   "cell_type": "code",
   "execution_count": 45,
   "id": "a568fa76",
   "metadata": {},
   "outputs": [
    {
     "data": {
      "image/png": "[encoded data removed]",
      "text/plain": [
       "<IPython.core.display.Image object>"
      ]
     },
     "execution_count": 45,
     "metadata": {},
     "output_type": "execute_result"
    }
   ],
   "source": [
    "# define the model\n",
    "input_ = layers.Input(shape=(max_length,), dtype=tf.int32)\n",
    "\n",
    "x = layers.Embedding(input_dim=vocab_size, output_dim=embedding_dim, name=\"Embedding\")(input_)\n",
    "\n",
    "x = layers.Bidirectional(layers.LSTM(lstm_hidden, return_sequences=True, name=\"hidden_1\"))(x)\n",
    "\n",
    "x = layers.Dropout(0.2)(x)\n",
    "\n",
    "x = layers.Bidirectional(layers.LSTM(lstm_hidden,return_sequences=True,name=\"hidden_2\"))(x)\n",
    "\n",
    "output_ = layers.Dense(nb_labels, activation='softmax')(x)\n",
    "\n",
    "model_NER_Bi_RNN = Model(input_, output_)\n",
    "# summarize the model\n",
    "plot_model(model_NER_Bi_RNN, show_shapes=True, expand_nested=True)"
   ]
  },
  {
   "cell_type": "code",
   "execution_count": 46,
   "id": "128ebe9d",
   "metadata": {},
   "outputs": [
    {
     "name": "stdout",
     "output_type": "stream",
     "text": [
      "Epoch 1/1000\n",
      "45/45 [==============================] - 21s 348ms/step - loss: 0.9234 - accuracy: 0.7212 - val_loss: 0.4318 - val_accuracy: 0.9059\n",
      "Epoch 2/1000\n",
      "45/45 [==============================] - 15s 341ms/step - loss: 0.4084 - accuracy: 0.9029 - val_loss: 0.3871 - val_accuracy: 0.9142\n",
      "Epoch 3/1000\n",
      "45/45 [==============================] - 14s 318ms/step - loss: 0.3666 - accuracy: 0.9069 - val_loss: 0.3579 - val_accuracy: 0.9147\n",
      "Epoch 4/1000\n",
      "45/45 [==============================] - 21s 477ms/step - loss: 0.3334 - accuracy: 0.9076 - val_loss: 0.3363 - val_accuracy: 0.9165\n",
      "Epoch 5/1000\n",
      "45/45 [==============================] - 23s 504ms/step - loss: 0.3042 - accuracy: 0.9094 - val_loss: 0.3074 - val_accuracy: 0.9181\n",
      "Epoch 6/1000\n",
      "45/45 [==============================] - 15s 333ms/step - loss: 0.2689 - accuracy: 0.9146 - val_loss: 0.2664 - val_accuracy: 0.9237\n",
      "Epoch 7/1000\n",
      "45/45 [==============================] - 11s 249ms/step - loss: 0.1915 - accuracy: 0.9385 - val_loss: 0.2064 - val_accuracy: 0.9403\n",
      "Epoch 8/1000\n",
      "45/45 [==============================] - 11s 238ms/step - loss: 0.1132 - accuracy: 0.9648 - val_loss: 0.1956 - val_accuracy: 0.9464\n",
      "Epoch 9/1000\n",
      "45/45 [==============================] - 11s 241ms/step - loss: 0.0767 - accuracy: 0.9761 - val_loss: 0.1975 - val_accuracy: 0.9495\n",
      "Epoch 10/1000\n",
      "45/45 [==============================] - 11s 243ms/step - loss: 0.0549 - accuracy: 0.9842 - val_loss: 0.2030 - val_accuracy: 0.9558\n",
      "Epoch 11/1000\n",
      "45/45 [==============================] - 11s 238ms/step - loss: 0.0369 - accuracy: 0.9902 - val_loss: 0.1940 - val_accuracy: 0.9541\n",
      "Epoch 12/1000\n",
      "45/45 [==============================] - 11s 237ms/step - loss: 0.0267 - accuracy: 0.9935 - val_loss: 0.2117 - val_accuracy: 0.9509\n",
      "Epoch 13/1000\n",
      "45/45 [==============================] - 11s 240ms/step - loss: 0.0206 - accuracy: 0.9951 - val_loss: 0.2137 - val_accuracy: 0.9567\n",
      "Epoch 14/1000\n",
      "45/45 [==============================] - 10s 233ms/step - loss: 0.0150 - accuracy: 0.9964 - val_loss: 0.2392 - val_accuracy: 0.9561\n",
      "Epoch 15/1000\n",
      "45/45 [==============================] - 10s 234ms/step - loss: 0.0116 - accuracy: 0.9974 - val_loss: 0.2348 - val_accuracy: 0.9545\n",
      "Epoch 16/1000\n",
      "45/45 [==============================] - 11s 235ms/step - loss: 0.0094 - accuracy: 0.9981 - val_loss: 0.2443 - val_accuracy: 0.9574\n",
      "Epoch 17/1000\n",
      "45/45 [==============================] - 10s 233ms/step - loss: 0.0077 - accuracy: 0.9984 - val_loss: 0.2412 - val_accuracy: 0.9551\n",
      "Epoch 18/1000\n",
      "45/45 [==============================] - 10s 230ms/step - loss: 0.0083 - accuracy: 0.9981 - val_loss: 0.2617 - val_accuracy: 0.9577\n",
      "Epoch 19/1000\n",
      "45/45 [==============================] - 10s 233ms/step - loss: 0.0060 - accuracy: 0.9988 - val_loss: 0.2689 - val_accuracy: 0.9569\n",
      "Epoch 20/1000\n",
      "45/45 [==============================] - 10s 231ms/step - loss: 0.0049 - accuracy: 0.9991 - val_loss: 0.2546 - val_accuracy: 0.9567\n",
      "Epoch 21/1000\n",
      "45/45 [==============================] - 11s 234ms/step - loss: 0.0039 - accuracy: 0.9993 - val_loss: 0.2677 - val_accuracy: 0.9561\n",
      "Epoch 22/1000\n",
      "45/45 [==============================] - 10s 229ms/step - loss: 0.0033 - accuracy: 0.9994 - val_loss: 0.2794 - val_accuracy: 0.9565\n",
      "Epoch 23/1000\n",
      "45/45 [==============================] - 10s 232ms/step - loss: 0.0029 - accuracy: 0.9995 - val_loss: 0.2905 - val_accuracy: 0.9565\n",
      "Epoch 24/1000\n",
      "45/45 [==============================] - 11s 242ms/step - loss: 0.0026 - accuracy: 0.9995 - val_loss: 0.2800 - val_accuracy: 0.9565\n",
      "Epoch 25/1000\n",
      "45/45 [==============================] - 11s 237ms/step - loss: 0.0026 - accuracy: 0.9996 - val_loss: 0.2963 - val_accuracy: 0.9563\n",
      "Epoch 26/1000\n",
      "45/45 [==============================] - ETA: 0s - loss: 0.0023 - accuracy: 0.9996Restoring model weights from the end of the best epoch: 16.\n",
      "45/45 [==============================] - 10s 232ms/step - loss: 0.0023 - accuracy: 0.9996 - val_loss: 0.2803 - val_accuracy: 0.9565\n",
      "Epoch 26: early stopping\n"
     ]
    }
   ],
   "source": [
    "callbacks_list = [EarlyStopping(monitor='val_accuracy', min_delta=0.0005, patience=10, verbose=1, mode='max', restore_best_weights=True)\n",
    "                 ]\n",
    "\n",
    "model_NER_Bi_RNN.compile(loss='sparse_categorical_crossentropy', optimizer='adam', metrics=['accuracy'])\n",
    "hist_NER_Bi_RNN = model_NER_Bi_RNN.fit(X_train_enc, y_train_enc, validation_split=0.2,\n",
    "                 epochs=1000, batch_size=250, callbacks=callbacks_list, verbose=1)"
   ]
  },
  {
   "cell_type": "code",
   "execution_count": 47,
   "id": "9e157751",
   "metadata": {},
   "outputs": [],
   "source": [
    "def _babysit_model(hist):\n",
    "    fig, (ax1, ax2) = plt.subplots(nrows=1, ncols=2, figsize=(18, 5))\n",
    "\n",
    "    pd.DataFrame({'val_loss':hist.history['val_loss'],\n",
    "              'loss':hist.history['loss'],\n",
    "             }).plot(ax=ax1)\n",
    "    pd.DataFrame({'val_accuracy':hist.history['val_accuracy'],\n",
    "              'accuracy':hist.history['accuracy']\n",
    "             }).plot(ax=ax2)"
   ]
  },
  {
   "cell_type": "code",
   "execution_count": 48,
   "id": "c3393020",
   "metadata": {},
   "outputs": [
    {
     "data": {
      "image/png": "[encoded data removed]",
      "text/plain": [
       "<Figure size 1296x360 with 2 Axes>"
      ]
     },
     "metadata": {
      "needs_background": "light"
     },
     "output_type": "display_data"
    }
   ],
   "source": [
    "_babysit_model(hist_NER_Bi_RNN)"
   ]
  },
  {
   "cell_type": "code",
   "execution_count": 52,
   "id": "35882092",
   "metadata": {},
   "outputs": [
    {
     "data": {
      "text/plain": [
       "(['[PAD]', '[UNK]', 'O', 'B-LOC', 'B-PER', 'B-ORG', 'I-PER', 'I-ORG', 'I-LOC'],\n",
       " [0, 1, 2, 3, 4, 5, 6, 7, 8])"
      ]
     },
     "execution_count": 52,
     "metadata": {},
     "output_type": "execute_result"
    }
   ],
   "source": [
    "labels = ['[PAD]']+labels[1:]\n",
    "labels_id = [i for i, _ in enumerate(labels)]"
   ]
  },
  {
   "cell_type": "code",
   "execution_count": 53,
   "id": "6c69194b",
   "metadata": {},
   "outputs": [
    {
     "data": {
      "text/plain": [
       "0.9451099628983979"
      ]
     },
     "execution_count": 53,
     "metadata": {},
     "output_type": "execute_result"
    }
   ],
   "source": [
    "from sklearn import metrics\n",
    "\n",
    "y_pred_enc = model_NER_Bi_RNN.predict(X_test_enc)\n",
    "y_pred_enc = np.argmax(y_pred_enc, axis=2)\n",
    "\n",
    "metrics.f1_score((y_test_enc.numpy()).flatten(), y_pred_enc.flatten(), average='weighted')"
   ]
  },
  {
   "cell_type": "code",
   "execution_count": 54,
   "id": "c7e6ec05",
   "metadata": {},
   "outputs": [
    {
     "name": "stdout",
     "output_type": "stream",
     "text": [
      "              precision    recall  f1-score   support\n",
      "\n",
      "         LOC      0.620     0.777     0.690      1436\n",
      "         PER      0.886     0.400     0.551      1363\n",
      "         ORG      0.657     0.633     0.645      1464\n",
      "\n",
      "   micro avg      0.584     0.568     0.576      6101\n",
      "   macro avg      0.601     0.562     0.529      6101\n",
      "weighted avg      0.683     0.568     0.584      6101\n",
      "\n"
     ]
    },
    {
     "name": "stderr",
     "output_type": "stream",
     "text": [
      "C:\\Users\\alexi\\AppData\\Local\\Programs\\Python\\Python310\\lib\\site-packages\\sklearn\\metrics\\_classification.py:2148: UserWarning: labels size, 6, does not match size of target_names, 3\n",
      "  warnings.warn(\n"
     ]
    }
   ],
   "source": [
    "print(metrics.classification_report((y_test_enc.numpy()).flatten(), y_pred_enc.flatten(),\n",
    "                                    target_names=[\"LOC\", \"PER\", \"ORG\"], labels=labels_id[3:], digits=3))"
   ]
  },
  {
   "cell_type": "markdown",
   "id": "8641edd2",
   "metadata": {},
   "source": [
    "### II.b Conclusion\n",
    "\n",
    "En moyenne, on obtient un f1 score similaire pour les deux modèles. (Pour le modèle *baselin*, le f1-score pondéré est de 0.597, pour le modèle amélioré, il est de 0.607)\n",
    "\n",
    "En revanche, lorsqu'on regarde dans le détail, on remarque que les f1-score de chaque classe ont sensiblement changé. En effet, pour les lieux et les personnes, notre modèle est un peu moins performant. Mais pour les organisations, il s'est amélioré, en passant d'un f1-score de 0.53 à 0.65. \n",
    "\n",
    "Une explication à cette observation est que les organisations peuvent avoir des noms qui sont des homonymes (cf : exemple avec apple). Ainsi, le modèle arrive plus facilement à les classer en connaissant le contexte."
   ]
  },
  {
   "cell_type": "code",
   "execution_count": 55,
   "id": "1a6dc4fe",
   "metadata": {},
   "outputs": [],
   "source": [
    "result[\"RNN\"] = [0.584,0.690, 0.551, 0.645]"
   ]
  },
  {
   "cell_type": "markdown",
   "id": "c0f559c1",
   "metadata": {},
   "source": [
    "# III. Modèle RNN avec mécanisme d'attention\n",
    "\n",
    "\n",
    "Le mécanisme d'attention repose sur l'idée que la traduction d'une phrase vers une autre ne se fait pas mot à mot, mais en pensant continuellement au sens de la phrase d'origine. \n",
    "\n",
    "Ainsi, les mécanismes d'attention permettent de donner au décoder, à chaque étape de la traduction, une distribution de l'ensemble des états cachés de l'encoder. \n",
    "\n",
    "Les mécanismes d'attention permettent entre autre de faire de la traduction, mais également de la reconnaissance d'entités nommées. Nous allons dans cette partie dévelloper un modèle NER avec mécanisme d'attention"
   ]
  },
  {
   "cell_type": "markdown",
   "id": "8d9001a6",
   "metadata": {},
   "source": [
    "### III.a Le modèle\n",
    "\n",
    "Soit n = max_length\n",
    "    m = lstm_hidden\n",
    "\n",
    "\n",
    "Pour créer l'attention :\n",
    "\n",
    "       - On applique une couche Dense avec activation linéaire sur la sortie du réseau récurrent. On a donc une matrice de taille (n x m ) \n",
    "       - La fonction de score est un produit matricielle entre les états de la couche LSTM et la sortie de cette couche Dense.\n",
    "       - Le résultat de cette fonction de score est de taille (n*n)\n",
    "       - On applique ensuite une couche d'activation pour déterminer les poids. Cette activation est une fonction softmax. On obtient ainsi l'attention l'ensemble des poids de l'attention.\n",
    "       - On calcule la somme des états du RNN pondérée avec les coefficients calculés dans la couche précédente. Cette opération est un produit matricielle.\n",
    "       - On obtient ainsi le contexte. \n",
    "       - On concatenne le contexte avec la sortie de la couche Dense.\n",
    "       \n",
    "\n",
    "       \n"
   ]
  },
  {
   "cell_type": "code",
   "execution_count": 67,
   "id": "d5156cdf",
   "metadata": {
    "scrolled": true
   },
   "outputs": [
    {
     "data": {
      "image/png": "[encoded data removed]",
      "text/plain": [
       "<IPython.core.display.Image object>"
      ]
     },
     "execution_count": 67,
     "metadata": {},
     "output_type": "execute_result"
    }
   ],
   "source": [
    "# define the model\n",
    "input_ = layers.Input(shape=(max_length,), dtype=tf.int32)\n",
    "\n",
    "x = layers.Embedding(input_dim=vocab_size, output_dim=embedding_dim, name=\"Embedding\")(input_)\n",
    "\n",
    "\n",
    "x,x_h,x_c = layers.LSTM(lstm_hidden,return_sequences=True,return_state=True,name=\"hidden\")(x)\n",
    "x = layers.Dropout(0.2)(x)\n",
    "\n",
    "x_input_activation = layers.Dense(lstm_hidden,activation='linear',name=\"dense_luong\")(x)\n",
    "\n",
    "attention = layers.dot([x_input_activation, x], axes=[2,2], name=\"Attention_score\")\n",
    "attention = layers.Activation('softmax', name=\"Attention_weight\")(attention)\n",
    "\n",
    "context = layers.dot([attention, x], axes=[2,1], name=\"Attention_context\")\n",
    "\n",
    "_combined_context = layers.concatenate([context, x_input_activation], name=\"Luong_Attention\")\n",
    "\n",
    "\n",
    "output_ = layers.Dense(nb_labels, activation='softmax')(_combined_context)\n",
    "\n",
    "model_NER_attention = Model(input_, output_)\n",
    "# summarize the model\n",
    "plot_model(model_NER_attention, show_shapes=True, expand_nested=True)"
   ]
  },
  {
   "cell_type": "code",
   "execution_count": 68,
   "id": "fb86c12e",
   "metadata": {},
   "outputs": [
    {
     "name": "stdout",
     "output_type": "stream",
     "text": [
      "Epoch 1/1000\n",
      "45/45 [==============================] - 10s 92ms/step - loss: 1.1940 - accuracy: 0.7129 - val_loss: 0.5733 - val_accuracy: 0.8962\n",
      "Epoch 2/1000\n",
      "45/45 [==============================] - 5s 108ms/step - loss: 0.4693 - accuracy: 0.8897 - val_loss: 0.3935 - val_accuracy: 0.9101\n",
      "Epoch 3/1000\n",
      "45/45 [==============================] - 4s 94ms/step - loss: 0.3701 - accuracy: 0.9037 - val_loss: 0.3460 - val_accuracy: 0.9146\n",
      "Epoch 4/1000\n",
      "45/45 [==============================] - 4s 90ms/step - loss: 0.3149 - accuracy: 0.9071 - val_loss: 0.2972 - val_accuracy: 0.9154\n",
      "Epoch 5/1000\n",
      "45/45 [==============================] - 4s 92ms/step - loss: 0.2495 - accuracy: 0.9101 - val_loss: 0.2469 - val_accuracy: 0.9209\n",
      "Epoch 6/1000\n",
      "45/45 [==============================] - 4s 91ms/step - loss: 0.1945 - accuracy: 0.9270 - val_loss: 0.2312 - val_accuracy: 0.9299\n",
      "Epoch 7/1000\n",
      "45/45 [==============================] - 4s 90ms/step - loss: 0.1600 - accuracy: 0.9465 - val_loss: 0.2134 - val_accuracy: 0.9385\n",
      "Epoch 8/1000\n",
      "45/45 [==============================] - 4s 94ms/step - loss: 0.1285 - accuracy: 0.9601 - val_loss: 0.2023 - val_accuracy: 0.9443\n",
      "Epoch 9/1000\n",
      "45/45 [==============================] - 4s 92ms/step - loss: 0.1018 - accuracy: 0.9692 - val_loss: 0.2037 - val_accuracy: 0.9489\n",
      "Epoch 10/1000\n",
      "45/45 [==============================] - 4s 92ms/step - loss: 0.0801 - accuracy: 0.9766 - val_loss: 0.2104 - val_accuracy: 0.9522\n",
      "Epoch 11/1000\n",
      "45/45 [==============================] - 4s 94ms/step - loss: 0.0654 - accuracy: 0.9814 - val_loss: 0.1994 - val_accuracy: 0.9540\n",
      "Epoch 12/1000\n",
      "45/45 [==============================] - 4s 94ms/step - loss: 0.0555 - accuracy: 0.9850 - val_loss: 0.2039 - val_accuracy: 0.9550\n",
      "Epoch 13/1000\n",
      "45/45 [==============================] - 4s 95ms/step - loss: 0.0474 - accuracy: 0.9874 - val_loss: 0.2188 - val_accuracy: 0.9565\n",
      "Epoch 14/1000\n",
      "45/45 [==============================] - 4s 94ms/step - loss: 0.0420 - accuracy: 0.9886 - val_loss: 0.2126 - val_accuracy: 0.9563\n",
      "Epoch 15/1000\n",
      "45/45 [==============================] - 4s 93ms/step - loss: 0.0377 - accuracy: 0.9896 - val_loss: 0.2237 - val_accuracy: 0.9570\n",
      "Epoch 16/1000\n",
      "45/45 [==============================] - 4s 95ms/step - loss: 0.0338 - accuracy: 0.9906 - val_loss: 0.2300 - val_accuracy: 0.9576\n",
      "Epoch 17/1000\n",
      "45/45 [==============================] - 4s 93ms/step - loss: 0.0307 - accuracy: 0.9913 - val_loss: 0.2359 - val_accuracy: 0.9578\n",
      "Epoch 18/1000\n",
      "45/45 [==============================] - 4s 95ms/step - loss: 0.0291 - accuracy: 0.9916 - val_loss: 0.2473 - val_accuracy: 0.9573\n",
      "Epoch 19/1000\n",
      "45/45 [==============================] - 4s 95ms/step - loss: 0.0247 - accuracy: 0.9930 - val_loss: 0.2337 - val_accuracy: 0.9561\n",
      "Epoch 20/1000\n",
      "45/45 [==============================] - 4s 94ms/step - loss: 0.0220 - accuracy: 0.9938 - val_loss: 0.2441 - val_accuracy: 0.9575\n",
      "Epoch 21/1000\n",
      "45/45 [==============================] - 4s 94ms/step - loss: 0.0198 - accuracy: 0.9944 - val_loss: 0.2501 - val_accuracy: 0.9567\n",
      "Epoch 22/1000\n",
      "45/45 [==============================] - 4s 93ms/step - loss: 0.0182 - accuracy: 0.9948 - val_loss: 0.2665 - val_accuracy: 0.9592\n",
      "Epoch 23/1000\n",
      "45/45 [==============================] - 5s 117ms/step - loss: 0.0170 - accuracy: 0.9951 - val_loss: 0.2821 - val_accuracy: 0.9592\n",
      "Epoch 24/1000\n",
      "45/45 [==============================] - 4s 94ms/step - loss: 0.0146 - accuracy: 0.9958 - val_loss: 0.2768 - val_accuracy: 0.9591\n",
      "Epoch 25/1000\n",
      "45/45 [==============================] - 4s 94ms/step - loss: 0.0135 - accuracy: 0.9963 - val_loss: 0.2740 - val_accuracy: 0.9573\n",
      "Epoch 26/1000\n",
      "45/45 [==============================] - 4s 94ms/step - loss: 0.0120 - accuracy: 0.9967 - val_loss: 0.2872 - val_accuracy: 0.9584\n",
      "Epoch 27/1000\n",
      "45/45 [==============================] - 4s 95ms/step - loss: 0.0107 - accuracy: 0.9970 - val_loss: 0.2992 - val_accuracy: 0.9590\n",
      "Epoch 28/1000\n",
      "45/45 [==============================] - 4s 95ms/step - loss: 0.0098 - accuracy: 0.9974 - val_loss: 0.2857 - val_accuracy: 0.9590\n",
      "Epoch 29/1000\n",
      "45/45 [==============================] - 4s 95ms/step - loss: 0.0090 - accuracy: 0.9976 - val_loss: 0.3165 - val_accuracy: 0.9597\n",
      "Epoch 30/1000\n",
      "45/45 [==============================] - 4s 96ms/step - loss: 0.0077 - accuracy: 0.9980 - val_loss: 0.3390 - val_accuracy: 0.9596\n",
      "Epoch 31/1000\n",
      "45/45 [==============================] - 4s 100ms/step - loss: 0.0071 - accuracy: 0.9982 - val_loss: 0.3215 - val_accuracy: 0.9584\n",
      "Epoch 32/1000\n",
      "45/45 [==============================] - 4s 95ms/step - loss: 0.0066 - accuracy: 0.9984 - val_loss: 0.3510 - val_accuracy: 0.9590\n",
      "Epoch 33/1000\n",
      "45/45 [==============================] - 4s 95ms/step - loss: 0.0064 - accuracy: 0.9984 - val_loss: 0.3295 - val_accuracy: 0.9595\n",
      "Epoch 34/1000\n",
      "45/45 [==============================] - 4s 96ms/step - loss: 0.0055 - accuracy: 0.9986 - val_loss: 0.3241 - val_accuracy: 0.9592\n",
      "Epoch 35/1000\n",
      "45/45 [==============================] - 4s 95ms/step - loss: 0.0049 - accuracy: 0.9988 - val_loss: 0.3473 - val_accuracy: 0.9590\n",
      "Epoch 36/1000\n",
      "45/45 [==============================] - 4s 95ms/step - loss: 0.0047 - accuracy: 0.9989 - val_loss: 0.3761 - val_accuracy: 0.9588\n",
      "Epoch 37/1000\n",
      "45/45 [==============================] - 4s 95ms/step - loss: 0.0040 - accuracy: 0.9991 - val_loss: 0.3631 - val_accuracy: 0.9595\n",
      "Epoch 38/1000\n",
      "45/45 [==============================] - 4s 95ms/step - loss: 0.0040 - accuracy: 0.9990 - val_loss: 0.3836 - val_accuracy: 0.9602\n",
      "Epoch 39/1000\n",
      "45/45 [==============================] - ETA: 0s - loss: 0.0043 - accuracy: 0.9990Restoring model weights from the end of the best epoch: 29.\n",
      "45/45 [==============================] - 4s 96ms/step - loss: 0.0043 - accuracy: 0.9990 - val_loss: 0.3533 - val_accuracy: 0.9586\n",
      "Epoch 39: early stopping\n"
     ]
    }
   ],
   "source": [
    "callbacks_list = [EarlyStopping(monitor='val_accuracy', min_delta=0.0005, patience=10, verbose=1, mode='max', restore_best_weights=True)\n",
    "                 ]\n",
    "\n",
    "model_NER_attention.compile(loss='sparse_categorical_crossentropy', optimizer='adam', metrics=['accuracy'])\n",
    "hist_NER_attention = model_NER_attention.fit(X_train_enc, y_train_enc, validation_split=0.2,\n",
    "                 epochs=1000, batch_size=250, callbacks=callbacks_list, verbose=1)"
   ]
  },
  {
   "cell_type": "code",
   "execution_count": 69,
   "id": "fcbd1ffa",
   "metadata": {},
   "outputs": [
    {
     "data": {
      "image/png": "[encoded data removed]",
      "text/plain": [
       "<Figure size 1296x360 with 2 Axes>"
      ]
     },
     "metadata": {
      "needs_background": "light"
     },
     "output_type": "display_data"
    }
   ],
   "source": [
    "_babysit_model(hist_NER_attention)"
   ]
  },
  {
   "cell_type": "code",
   "execution_count": 70,
   "id": "c44ab6c8",
   "metadata": {},
   "outputs": [
    {
     "data": {
      "text/plain": [
       "0.9501784146863861"
      ]
     },
     "execution_count": 70,
     "metadata": {},
     "output_type": "execute_result"
    }
   ],
   "source": [
    "y_pred_enc = model_NER_attention.predict(X_test_enc)\n",
    "y_pred_enc = np.argmax(y_pred_enc, axis=2)\n",
    "labels = ['[PAD]']+labels[1:]\n",
    "labels_id = [i for i, _ in enumerate(labels)]\n",
    "\n",
    "metrics.f1_score((y_test_enc.numpy()).flatten(), y_pred_enc.flatten(), average='weighted')"
   ]
  },
  {
   "cell_type": "code",
   "execution_count": 71,
   "id": "e299cf81",
   "metadata": {},
   "outputs": [
    {
     "name": "stdout",
     "output_type": "stream",
     "text": [
      "              precision    recall  f1-score   support\n",
      "\n",
      "         LOC      0.776     0.787     0.781      1436\n",
      "         PER      0.899     0.492     0.636      1363\n",
      "         ORG      0.689     0.597     0.640      1464\n",
      "\n",
      "   micro avg      0.709     0.598     0.649      6101\n",
      "   macro avg      0.683     0.591     0.613      6101\n",
      "weighted avg      0.750     0.598     0.651      6101\n",
      "\n"
     ]
    },
    {
     "name": "stderr",
     "output_type": "stream",
     "text": [
      "C:\\Users\\alexi\\AppData\\Local\\Programs\\Python\\Python310\\lib\\site-packages\\sklearn\\metrics\\_classification.py:2148: UserWarning: labels size, 6, does not match size of target_names, 3\n",
      "  warnings.warn(\n"
     ]
    }
   ],
   "source": [
    "print(metrics.classification_report((y_test_enc.numpy()).flatten(), y_pred_enc.flatten(),\n",
    "                                    target_names=[\"LOC\", \"PER\", \"ORG\"], labels=labels_id[3:], digits=3))"
   ]
  },
  {
   "cell_type": "markdown",
   "id": "42556a5e",
   "metadata": {},
   "source": [
    "### III.b Conclusion\n",
    "\n",
    "C'est avec le mécanisme d'attention qu'on obtient le modèle avec les meilleurs résultats lorsqu'on veut faire de la reconnaissance d'entitées nommées. "
   ]
  },
  {
   "cell_type": "code",
   "execution_count": 72,
   "id": "9fc6343b",
   "metadata": {},
   "outputs": [
    {
     "data": {
      "image/png": "[encoded data removed]",
      "text/plain": [
       "<Figure size 432x288 with 1 Axes>"
      ]
     },
     "metadata": {
      "needs_background": "light"
     },
     "output_type": "display_data"
    }
   ],
   "source": [
    "result[\"attention\"] = [0.651,0.781, 0.636, 0.640]\n",
    "index = ['f1-weight avg', 'f1-LOC', 'f1-PER','f1-ORG']\n",
    "\n",
    "df = pd.DataFrame(result, index=index)\n",
    "ax = df.plot.bar(rot=0)"
   ]
  },
  {
   "cell_type": "code",
   "execution_count": null,
   "id": "22136c6f",
   "metadata": {},
   "outputs": [],
   "source": []
  }
 ],
 "metadata": {
  "kernelspec": {
   "display_name": "Python 3 (ipykernel)",
   "language": "python",
   "name": "python3"
  },
  "language_info": {
   "codemirror_mode": {
    "name": "ipython",
    "version": 3
   },
   "file_extension": ".py",
   "mimetype": "text/x-python",
   "name": "python",
   "nbconvert_exporter": "python",
   "pygments_lexer": "ipython3",
   "version": "3.10.2"
  }
 },
 "nbformat": 4,
 "nbformat_minor": 5
}
