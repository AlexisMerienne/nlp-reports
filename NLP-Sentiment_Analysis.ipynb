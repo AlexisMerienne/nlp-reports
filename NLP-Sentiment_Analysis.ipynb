{
 "cells": [
  {
   "cell_type": "markdown",
   "id": "42d403cd",
   "metadata": {},
   "source": [
    "# Différentes approches MLP pour analyser le sentiment d'un avis amazon\n",
    "\n",
    "\n",
    "#### Alexis Mérienne\n",
    "\n",
    "#### 9 octobre 2022"
   ]
  },
  {
   "cell_type": "code",
   "execution_count": 1,
   "id": "70bebeb6",
   "metadata": {},
   "outputs": [
    {
     "data": {
      "text/html": [
       "<div id=\"my_id_menu_nb\">run previous cell, wait for 2 seconds</div>\n",
       "<script>\n",
       "function repeat_indent_string(n){\n",
       "    var a = \"\" ;\n",
       "    for ( ; n > 0 ; --n)\n",
       "        a += \"    \";\n",
       "    return a;\n",
       "}\n",
       "// look up into all sections and builds an automated menu //\n",
       "var update_menu_string = function(begin, lfirst, llast, sformat, send, keep_item, begin_format, end_format) {\n",
       "    var anchors = document.getElementsByClassName(\"section\");\n",
       "    if (anchors.length == 0) {\n",
       "        anchors = document.getElementsByClassName(\"text_cell_render rendered_html\");\n",
       "    }\n",
       "    var i,t;\n",
       "    var text_menu = begin;\n",
       "    var text_memo = \"<pre>\\nlength:\" + anchors.length + \"\\n\";\n",
       "    var ind = \"\";\n",
       "    var memo_level = 1;\n",
       "    var href;\n",
       "    var tags = [];\n",
       "    var main_item = 0;\n",
       "    var format_open = 0;\n",
       "    for (i = 0; i <= llast; i++)\n",
       "        tags.push(\"h\" + i);\n",
       "\n",
       "    for (i = 0; i < anchors.length; i++) {\n",
       "        text_memo += \"**\" + anchors[i].id + \"--\\n\";\n",
       "\n",
       "        var child = null;\n",
       "        for(t = 0; t < tags.length; t++) {\n",
       "            var r = anchors[i].getElementsByTagName(tags[t]);\n",
       "            if (r.length > 0) {\n",
       "child = r[0];\n",
       "break;\n",
       "            }\n",
       "        }\n",
       "        if (child == null) {\n",
       "            text_memo += \"null\\n\";\n",
       "            continue;\n",
       "        }\n",
       "        if (anchors[i].hasAttribute(\"id\")) {\n",
       "            // when converted in RST\n",
       "            href = anchors[i].id;\n",
       "            text_memo += \"#1-\" + href;\n",
       "            // passer à child suivant (le chercher)\n",
       "        }\n",
       "        else if (child.hasAttribute(\"id\")) {\n",
       "            // in a notebook\n",
       "            href = child.id;\n",
       "            text_memo += \"#2-\" + href;\n",
       "        }\n",
       "        else {\n",
       "            text_memo += \"#3-\" + \"*\" + \"\\n\";\n",
       "            continue;\n",
       "        }\n",
       "        var title = child.textContent;\n",
       "        var level = parseInt(child.tagName.substring(1,2));\n",
       "\n",
       "        text_memo += \"--\" + level + \"?\" + lfirst + \"--\" + title + \"\\n\";\n",
       "\n",
       "        if ((level < lfirst) || (level > llast)) {\n",
       "            continue ;\n",
       "        }\n",
       "        if (title.endsWith('¶')) {\n",
       "            title = title.substring(0,title.length-1).replace(\"<\", \"&lt;\")\n",
       "         .replace(\">\", \"&gt;\").replace(\"&\", \"&amp;\");\n",
       "        }\n",
       "        if (title.length == 0) {\n",
       "            continue;\n",
       "        }\n",
       "\n",
       "        while (level < memo_level) {\n",
       "            text_menu += end_format + \"</ul>\\n\";\n",
       "            format_open -= 1;\n",
       "            memo_level -= 1;\n",
       "        }\n",
       "        if (level == lfirst) {\n",
       "            main_item += 1;\n",
       "        }\n",
       "        if (keep_item != -1 && main_item != keep_item + 1) {\n",
       "            // alert(main_item + \" - \" + level + \" - \" + keep_item);\n",
       "            continue;\n",
       "        }\n",
       "        while (level > memo_level) {\n",
       "            text_menu += \"<ul>\\n\";\n",
       "            memo_level += 1;\n",
       "        }\n",
       "        text_menu += repeat_indent_string(level-2);\n",
       "        text_menu += begin_format + sformat.replace(\"__HREF__\", href).replace(\"__TITLE__\", title);\n",
       "        format_open += 1;\n",
       "    }\n",
       "    while (1 < memo_level) {\n",
       "        text_menu += end_format + \"</ul>\\n\";\n",
       "        memo_level -= 1;\n",
       "        format_open -= 1;\n",
       "    }\n",
       "    text_menu += send;\n",
       "    //text_menu += \"\\n\" + text_memo;\n",
       "\n",
       "    while (format_open > 0) {\n",
       "        text_menu += end_format;\n",
       "        format_open -= 1;\n",
       "    }\n",
       "    return text_menu;\n",
       "};\n",
       "var update_menu = function() {\n",
       "    var sbegin = \"\";\n",
       "    var sformat = '<a href=\"#__HREF__\">__TITLE__</a>';\n",
       "    var send = \"\";\n",
       "    var begin_format = '<li>';\n",
       "    var end_format = '</li>';\n",
       "    var keep_item = -1;\n",
       "    var text_menu = update_menu_string(sbegin, 2, 4, sformat, send, keep_item,\n",
       "       begin_format, end_format);\n",
       "    var menu = document.getElementById(\"my_id_menu_nb\");\n",
       "    menu.innerHTML=text_menu;\n",
       "};\n",
       "window.setTimeout(update_menu,2000);\n",
       "            </script>"
      ],
      "text/plain": [
       "<IPython.core.display.HTML object>"
      ]
     },
     "execution_count": 1,
     "metadata": {},
     "output_type": "execute_result"
    }
   ],
   "source": [
    "try:\n",
    "    from jyquickhelper import add_notebook_menu \n",
    "except:\n",
    "    !pip install jyquickhelper\n",
    "    from jyquickhelper import add_notebook_menu\n",
    "\n",
    "add_notebook_menu()"
   ]
  },
  {
   "cell_type": "markdown",
   "id": "8b351e5c",
   "metadata": {},
   "source": [
    "## Imports"
   ]
  },
  {
   "cell_type": "code",
   "execution_count": 2,
   "id": "eb4a8a2b",
   "metadata": {},
   "outputs": [],
   "source": [
    "import ssl\n",
    "ssl._create_default_https_context = ssl._create_unverified_context"
   ]
  },
  {
   "cell_type": "code",
   "execution_count": 3,
   "id": "8e43ffc8",
   "metadata": {},
   "outputs": [],
   "source": [
    "import warnings\n",
    "warnings.filterwarnings('ignore')"
   ]
  },
  {
   "cell_type": "code",
   "execution_count": 4,
   "id": "27580e24",
   "metadata": {},
   "outputs": [],
   "source": [
    "import numpy as np\n",
    "import matplotlib.pyplot as plt\n",
    "import seaborn as sns\n",
    "import pandas as pd\n",
    "import time"
   ]
  },
  {
   "cell_type": "code",
   "execution_count": 5,
   "id": "a29d2dfd",
   "metadata": {},
   "outputs": [],
   "source": [
    "from sklearn.model_selection import train_test_split\n",
    "\n",
    "from sklearn.pipeline import Pipeline\n",
    "from sklearn.feature_extraction.text import CountVectorizer\n",
    "from sklearn.preprocessing import OneHotEncoder\n",
    "\n",
    "from sklearn.linear_model import LogisticRegression\n",
    "from sklearn.metrics import classification_report\n",
    "from sklearn.metrics import confusion_matrix\n",
    "from sklearn.metrics import f1_score"
   ]
  },
  {
   "cell_type": "code",
   "execution_count": 6,
   "id": "802bb665",
   "metadata": {},
   "outputs": [],
   "source": [
    "import nltk\n",
    "from nltk import word_tokenize          \n",
    "from nltk import FreqDist"
   ]
  },
  {
   "cell_type": "code",
   "execution_count": 72,
   "id": "cb5a4dc7",
   "metadata": {},
   "outputs": [],
   "source": [
    "import tensorflow as tf\n",
    "from tensorflow.keras.models import Model\n",
    "from tensorflow.keras.layers import Input, Dense, TextVectorization, Dropout, Flatten, Embedding, LSTM, AveragePooling1D\n",
    "from tensorflow.keras.callbacks import EarlyStopping"
   ]
  },
  {
   "cell_type": "code",
   "execution_count": 8,
   "id": "55afd747",
   "metadata": {},
   "outputs": [
    {
     "name": "stderr",
     "output_type": "stream",
     "text": [
      "WARNING: You are using pip version 22.0.3; however, version 22.2.2 is available.\n",
      "You should consider upgrading via the 'C:\\Users\\alexi\\AppData\\Local\\Programs\\Python\\Python310\\python.exe -m pip install --upgrade pip' command.\n"
     ]
    },
    {
     "name": "stdout",
     "output_type": "stream",
     "text": [
      "Requirement already satisfied: tensorflow-addons in c:\\users\\alexi\\appdata\\local\\programs\\python\\python310\\lib\\site-packages (0.18.0)\n",
      "Requirement already satisfied: typeguard>=2.7 in c:\\users\\alexi\\appdata\\local\\programs\\python\\python310\\lib\\site-packages (from tensorflow-addons) (2.13.3)\n",
      "Requirement already satisfied: packaging in c:\\users\\alexi\\appdata\\local\\programs\\python\\python310\\lib\\site-packages (from tensorflow-addons) (21.3)\n",
      "Requirement already satisfied: pyparsing!=3.0.5,>=2.0.2 in c:\\users\\alexi\\appdata\\local\\programs\\python\\python310\\lib\\site-packages (from packaging->tensorflow-addons) (3.0.7)\n"
     ]
    }
   ],
   "source": [
    "!pip install tensorflow-addons\n",
    "import tensorflow_addons as tfa\n",
    "from tensorflow_addons.metrics import F1Score"
   ]
  },
  {
   "cell_type": "markdown",
   "id": "9b881401",
   "metadata": {},
   "source": [
    "Datasets"
   ]
  },
  {
   "cell_type": "code",
   "execution_count": 9,
   "id": "96b80ce6",
   "metadata": {},
   "outputs": [
    {
     "data": {
      "text/html": [
       "<div>\n",
       "<style scoped>\n",
       "    .dataframe tbody tr th:only-of-type {\n",
       "        vertical-align: middle;\n",
       "    }\n",
       "\n",
       "    .dataframe tbody tr th {\n",
       "        vertical-align: top;\n",
       "    }\n",
       "\n",
       "    .dataframe thead th {\n",
       "        text-align: right;\n",
       "    }\n",
       "</style>\n",
       "<table border=\"1\" class=\"dataframe\">\n",
       "  <thead>\n",
       "    <tr style=\"text-align: right;\">\n",
       "      <th></th>\n",
       "      <th>Product Name</th>\n",
       "      <th>Brand Name</th>\n",
       "      <th>Price</th>\n",
       "      <th>Rating</th>\n",
       "      <th>Reviews</th>\n",
       "      <th>Review Votes</th>\n",
       "    </tr>\n",
       "  </thead>\n",
       "  <tbody>\n",
       "    <tr>\n",
       "      <th>0</th>\n",
       "      <td>Samsung Galaxy Note 4 N910C Unlocked Cellphone...</td>\n",
       "      <td>Samsung</td>\n",
       "      <td>449.99</td>\n",
       "      <td>4</td>\n",
       "      <td>I love it!!! I absolutely love it!! 👌👍</td>\n",
       "      <td>0.0</td>\n",
       "    </tr>\n",
       "    <tr>\n",
       "      <th>1</th>\n",
       "      <td>BLU Energy X Plus Smartphone - With 4000 mAh S...</td>\n",
       "      <td>BLU</td>\n",
       "      <td>139.00</td>\n",
       "      <td>5</td>\n",
       "      <td>I love the BLU phones! This is my second one t...</td>\n",
       "      <td>4.0</td>\n",
       "    </tr>\n",
       "    <tr>\n",
       "      <th>2</th>\n",
       "      <td>Apple iPhone 6 128GB Silver AT&amp;T</td>\n",
       "      <td>Apple</td>\n",
       "      <td>599.95</td>\n",
       "      <td>5</td>\n",
       "      <td>Great phone</td>\n",
       "      <td>1.0</td>\n",
       "    </tr>\n",
       "    <tr>\n",
       "      <th>3</th>\n",
       "      <td>BLU Advance 4.0L Unlocked Smartphone -US GSM -...</td>\n",
       "      <td>BLU</td>\n",
       "      <td>51.99</td>\n",
       "      <td>4</td>\n",
       "      <td>Very happy with the performance. The apps work...</td>\n",
       "      <td>2.0</td>\n",
       "    </tr>\n",
       "    <tr>\n",
       "      <th>4</th>\n",
       "      <td>Huawei P8 Lite US Version- 5 Unlocked Android ...</td>\n",
       "      <td>Huawei</td>\n",
       "      <td>198.99</td>\n",
       "      <td>5</td>\n",
       "      <td>Easy to use great price</td>\n",
       "      <td>0.0</td>\n",
       "    </tr>\n",
       "  </tbody>\n",
       "</table>\n",
       "</div>"
      ],
      "text/plain": [
       "                                        Product Name Brand Name   Price  \\\n",
       "0  Samsung Galaxy Note 4 N910C Unlocked Cellphone...    Samsung  449.99   \n",
       "1  BLU Energy X Plus Smartphone - With 4000 mAh S...        BLU  139.00   \n",
       "2                   Apple iPhone 6 128GB Silver AT&T      Apple  599.95   \n",
       "3  BLU Advance 4.0L Unlocked Smartphone -US GSM -...        BLU   51.99   \n",
       "4  Huawei P8 Lite US Version- 5 Unlocked Android ...     Huawei  198.99   \n",
       "\n",
       "   Rating                                            Reviews  Review Votes  \n",
       "0       4             I love it!!! I absolutely love it!! 👌👍           0.0  \n",
       "1       5  I love the BLU phones! This is my second one t...           4.0  \n",
       "2       5                                        Great phone           1.0  \n",
       "3       4  Very happy with the performance. The apps work...           2.0  \n",
       "4       5                            Easy to use great price           0.0  "
      ]
     },
     "execution_count": 9,
     "metadata": {},
     "output_type": "execute_result"
    }
   ],
   "source": [
    "TRAIN = pd.read_csv(\"http://www.i3s.unice.fr/~riveill/dataset/Amazon_Unlocked_Mobile/train.csv.gz\",encoding='utf-8')\n",
    "VAL = pd.read_csv(\"http://www.i3s.unice.fr/~riveill/dataset/Amazon_Unlocked_Mobile/val.csv.gz\",encoding='utf-8')\n",
    "TEST = pd.read_csv(\"http://www.i3s.unice.fr/~riveill/dataset/Amazon_Unlocked_Mobile/test.csv.gz\",encoding='utf-8')\n",
    "\n",
    "TRAIN.head()"
   ]
  },
  {
   "cell_type": "code",
   "execution_count": 10,
   "id": "d65e6acf",
   "metadata": {},
   "outputs": [
    {
     "name": "stderr",
     "output_type": "stream",
     "text": [
      "[nltk_data] Downloading package punkt to\n",
      "[nltk_data]     C:\\Users\\alexi\\AppData\\Roaming\\nltk_data...\n",
      "[nltk_data]   Package punkt is already up-to-date!\n"
     ]
    },
    {
     "data": {
      "text/plain": [
       "True"
      ]
     },
     "execution_count": 10,
     "metadata": {},
     "output_type": "execute_result"
    }
   ],
   "source": [
    "import nltk\n",
    "nltk.download('punkt')"
   ]
  },
  {
   "cell_type": "code",
   "execution_count": 11,
   "id": "2da8b2c6",
   "metadata": {},
   "outputs": [],
   "source": [
    "reviews_tokenized = [word_tokenize(review) for review in TRAIN['Reviews']]\n",
    "flatten_reviews = [item for sublist in reviews_tokenized for item in sublist]"
   ]
  },
  {
   "cell_type": "code",
   "execution_count": 12,
   "id": "aec50962",
   "metadata": {},
   "outputs": [
    {
     "name": "stdout",
     "output_type": "stream",
     "text": [
      "La taille du vocabulaire de notre dataset est : \n",
      "vacabulary_size =  13099\n"
     ]
    }
   ],
   "source": [
    "vocabulary_size = len(set(flatten_reviews))\n",
    "print(\"La taille du vocabulaire de notre dataset est : \\nvacabulary_size = \",vocabulary_size)"
   ]
  },
  {
   "cell_type": "code",
   "execution_count": 13,
   "id": "63e429a9",
   "metadata": {},
   "outputs": [
    {
     "data": {
      "text/plain": [
       "FreqDist({3: 44720, 4: 38709, 2: 37348, 1: 36588, 5: 25285, 6: 14777, 7: 13142, 8: 7393, 9: 4825, 10: 2905, ...})"
      ]
     },
     "execution_count": 13,
     "metadata": {},
     "output_type": "execute_result"
    }
   ],
   "source": [
    "len_words = [len(w) for w in flatten_reviews]\n",
    "freqDist2 = FreqDist(len_words)\n",
    "freqDist2"
   ]
  },
  {
   "cell_type": "code",
   "execution_count": 14,
   "id": "f458152e",
   "metadata": {},
   "outputs": [
    {
     "data": {
      "text/plain": [
       "((5000,), (5000,), 4)"
      ]
     },
     "execution_count": 14,
     "metadata": {},
     "output_type": "execute_result"
    }
   ],
   "source": [
    "# On construit X_train et y_train\n",
    "# On encode les avis en ASCII, pour éviter des soucis de lectures du texte dans les modèles d'apprentissage\n",
    "X_train = TRAIN['Reviews'].fillna(\"\").str.encode('ascii', 'ignore').str.decode('ascii')\n",
    "y_train = TRAIN['Rating']\n",
    "X_train.shape, y_train.shape, y_train[0]"
   ]
  },
  {
   "cell_type": "code",
   "execution_count": 15,
   "id": "41a2ba35",
   "metadata": {},
   "outputs": [
    {
     "data": {
      "text/plain": [
       "((1000,), (1000,))"
      ]
     },
     "execution_count": 15,
     "metadata": {},
     "output_type": "execute_result"
    }
   ],
   "source": [
    "# On construit X_val et y_val\n",
    "# Ces valeurs permettent de tester la précision de notre modèle pendant la phase d'apprentissage\n",
    "# On sépare X_val et X_test pour que les métrics mesurées pendant la phase d'apprentissage n'influence pas l'évaluation du modèle\n",
    "X_val = VAL['Reviews'].fillna(\"\").str.encode('ascii', 'ignore').str.decode('ascii')\n",
    "y_val = VAL['Rating']\n",
    "X_val.shape, y_val.shape"
   ]
  },
  {
   "cell_type": "code",
   "execution_count": 16,
   "id": "ada74def",
   "metadata": {},
   "outputs": [
    {
     "data": {
      "text/plain": [
       "((1000,), (1000,))"
      ]
     },
     "execution_count": 16,
     "metadata": {},
     "output_type": "execute_result"
    }
   ],
   "source": [
    "# On construit X_test et y_test, qui vont nous permettent d'évaluer nos modèles\n",
    "X_test = TEST['Reviews'].fillna(\"\").str.encode('ascii', 'ignore').str.decode('ascii')\n",
    "y_test = TEST['Rating']\n",
    "X_test.shape, y_test.shape"
   ]
  },
  {
   "cell_type": "code",
   "execution_count": 17,
   "id": "e80db470",
   "metadata": {},
   "outputs": [],
   "source": [
    "from sklearn.feature_extraction.text import CountVectorizer\n",
    "from sklearn.preprocessing import OneHotEncoder"
   ]
  },
  {
   "cell_type": "markdown",
   "id": "b045b677",
   "metadata": {},
   "source": [
    "## 1) Preprocessing\n",
    "\n",
    "### On convertit le texte du corpus en minuscule\n",
    "\n",
    "La convertion du texte en minuscule est pertinente pour homogénéiser le dataset. Par exemple le mots en début de phrase auront la même sémentique que les mots en milieu de phrase "
   ]
  },
  {
   "cell_type": "code",
   "execution_count": 18,
   "id": "7f313dc2",
   "metadata": {},
   "outputs": [],
   "source": [
    "from nltk.tokenize import RegexpTokenizer\n",
    "tokenizer = RegexpTokenizer(r'\\w+')\n",
    "\n",
    "#On transforme tous les mots en minuscule\n",
    "X_train_prep,X_val_prep,X_test_prep = [r.lower() for r in X_train],[r.lower() for r in X_val],[r.lower() for r in X_test]\n",
    "\n",
    "#On supprime les signes de ponctuation, qui ne transmettent pas d'information sémentique. \n",
    "X_train_prep,X_val_prep,X_test_prep = [tokenizer.tokenize(r) for r in X_train_prep],[tokenizer.tokenize(r) for r in X_val_prep],[tokenizer.tokenize(r) for r in X_test_prep]\n"
   ]
  },
  {
   "cell_type": "markdown",
   "id": "b94f5ace",
   "metadata": {},
   "source": [
    "### Stemming and Lemmatization with NLTK"
   ]
  },
  {
   "cell_type": "code",
   "execution_count": 19,
   "id": "92437a4f",
   "metadata": {},
   "outputs": [],
   "source": [
    "from nltk.stem import PorterStemmer\n",
    "\n",
    "stemmer_ps = PorterStemmer()  \n",
    "#Stemmer transforme les mots en les associant à leur radical. On diminue ainsi la taille du dataset sans perdre d'information \n",
    "#sémantique\n",
    "\n",
    "X_train_prep = [[stemmer_ps.stem(word) for word in review] for review in X_train_prep]\n",
    "X_val_prep = [[stemmer_ps.stem(word) for word in review] for review in X_val_prep]\n",
    "X_test_prep = [[stemmer_ps.stem(word) for word in review] for review in X_test_prep]"
   ]
  },
  {
   "cell_type": "markdown",
   "id": "aac99eea",
   "metadata": {},
   "source": [
    "### stopwords \n",
    "\n",
    "Les 'stopwords' sont les mots de liaisons renfermant peut d'information dans une phrase. Ici, j'ai fait le choix de les stocker dans d'autres variables pour évaluer différentes stratégies. \n",
    "En effet, il se pourrait que ce ne soit pas une bonne idée de les supprimer du corpus puisqu'ils peuvent la fonction d'indiquer une négation dans la phrase. Etant donné que nous faisons de l'analyse de sentiment, cette fonction est primordiale."
   ]
  },
  {
   "cell_type": "code",
   "execution_count": 20,
   "id": "292e160d",
   "metadata": {},
   "outputs": [
    {
     "name": "stderr",
     "output_type": "stream",
     "text": [
      "[nltk_data] Downloading package stopwords to\n",
      "[nltk_data]     C:\\Users\\alexi\\AppData\\Roaming\\nltk_data...\n",
      "[nltk_data]   Package stopwords is already up-to-date!\n"
     ]
    },
    {
     "name": "stdout",
     "output_type": "stream",
     "text": [
      "['love', 'absolut', 'love']\n",
      "['love', 'blu', 'phone', 'thi', 'second', 'one', 'thi', 'year', 'becaus', 'anyth', 'wrong', 'blu', 'studio', '6', '0', 'hd', 'opt', 'upgrad', 'phone', 'slightli', 'smaller', 'screen', 'better', 'batteri', 'life', 'price', 'phone', 'cannot', 'go', 'wrong', '1', 'setup', 'breeze2', 'custom', 'easy3', 'color', 'vibrant4', 'phone', 'light', 'even', 'rug', 'case', '5', 'batteri', 'life', 'better', 'ani', 'phone', 'ever', 'had6', 'screen', 'respons', 'touch', 'unlik', 'phone', 'issu', 'volum', 'music', 'playback', 'review', 'note', 'great', 'phone', 'littl', 'price', 'everyon', 'give', 'blu', 'tri']\n",
      "['great', 'phone']\n",
      "['veri', 'happi', 'perform', 'app', 'work', 'flawlessli', 'camera', 'could', 'better', 'complaint', 'consid', 'onli', '50']\n",
      "['easi', 'use', 'great', 'price']\n"
     ]
    }
   ],
   "source": [
    "nltk.download('stopwords')\n",
    "from nltk.corpus import stopwords\n",
    "\n",
    "english_stopwords = stopwords.words('english')\n",
    "\n",
    "X_train_prep_sp = [[t for t in review if t not in english_stopwords]for review in X_train_prep]\n",
    "X_val_prep_sp = [[t for t in review if t not in english_stopwords]for review in X_val_prep]\n",
    "X_test_prep_sp = [[t for t in review if t not in english_stopwords] for review in X_test_prep]\n",
    "\n",
    "for k in range(5):\n",
    "    print(X_train_prep_sp[k]) "
   ]
  },
  {
   "cell_type": "markdown",
   "id": "86efefa5",
   "metadata": {},
   "source": [
    "On convertit notre dataset d'une liste de Token à une liste de phrase"
   ]
  },
  {
   "cell_type": "code",
   "execution_count": 21,
   "id": "0be80611",
   "metadata": {},
   "outputs": [
    {
     "name": "stdout",
     "output_type": "stream",
     "text": [
      "w/o stopword :  i love it i absolut love it  w/ stopword : love absolut love\n",
      "w/o stopword :  i love the blu phone thi is my second one thi year and not becaus there is anyth wrong with my blu studio 6 0 hd i have just opt to upgrad to a phone with a slightli smaller screen and better batteri life for the price of these phone you cannot go wrong 1 setup is a breeze2 custom is easy3 color are vibrant4 phone is light even with a rug case 5 batteri life is better than ani phone i have ever had6 screen is respons to touch unlik some other phone i have had no issu with volum or music playback as other review have note all in all a great phone for a littl price everyon should give blu a tri  w/ stopword : love blu phone thi second one thi year becaus anyth wrong blu studio 6 0 hd opt upgrad phone slightli smaller screen better batteri life price phone cannot go wrong 1 setup breeze2 custom easy3 color vibrant4 phone light even rug case 5 batteri life better ani phone ever had6 screen respons touch unlik phone issu volum music playback review note great phone littl price everyon give blu tri\n",
      "w/o stopword :  great phone  w/ stopword : great phone\n",
      "w/o stopword :  veri happi with the perform the app work flawlessli camera could be better but no complaint consid it is onli 50  w/ stopword : veri happi perform app work flawlessli camera could better complaint consid onli 50\n",
      "w/o stopword :  easi to use great price  w/ stopword : easi use great price\n"
     ]
    }
   ],
   "source": [
    "X_train_prep = [' '.join([str(elem) for elem in review]) for review in X_train_prep]\n",
    "X_val_prep= [' '.join([str(elem) for elem in review]) for review in X_val_prep]\n",
    "X_test_prep = [' '.join([str(elem) for elem in review]) for review in X_test_prep]\n",
    "\n",
    "X_train_prep_sp = [' '.join([str(elem) for elem in review]) for review in X_train_prep_sp]\n",
    "X_val_prep_sp = [' '.join([str(elem) for elem in review]) for review in X_val_prep_sp]\n",
    "X_test_prep_sp = [' '.join([str(elem) for elem in review]) for review in X_test_prep_sp]\n",
    "\n",
    "\n",
    "for k in range(5):\n",
    "    print('w/o stopword : ',X_train_prep[k], ' w/ stopword :',X_train_prep_sp[k])"
   ]
  },
  {
   "cell_type": "markdown",
   "id": "22e32e4d",
   "metadata": {},
   "source": [
    "## 2) Baseline\n",
    "\n",
    "Notre baseline est composée d'une simple régression linéaire sur les données d'entrainement que l'on convertit en BOW. \n",
    "Le Bag Of Word est une représentation véctorielle simple de données textuelle. Ici, cette représentation se fait à l'aide de la fonction CountVectorize()\n",
    "\n",
    "Le Bag Of Word est une matrice de taille N * M. \n",
    "avec \n",
    "\n",
    "N la taille du vocabulaire\n",
    "M la taille du dataset\n",
    "\n",
    "Un review est représentée sous la forme d'un vecteur dont les éléments sont le nombre d'occurance d'un mot. "
   ]
  },
  {
   "cell_type": "code",
   "execution_count": 22,
   "id": "a91502cb",
   "metadata": {},
   "outputs": [],
   "source": [
    "#Nombre de classes présente dans le dataset.\n",
    "#Les utilisateurs peuvent noter les produits avec une note allant de 1 à 5. Donc le nombre de classe est 5\n",
    "nb_classes = len(np.unique(y_train))"
   ]
  },
  {
   "cell_type": "code",
   "execution_count": 23,
   "id": "a4964cc0",
   "metadata": {},
   "outputs": [],
   "source": [
    "# Je construit la pipeline\n",
    "lr_pipeline = Pipeline([\n",
    "        ('feature_extraction',  CountVectorizer()),\n",
    "        ('classification',  LogisticRegression(multi_class='auto', max_iter=400))\n",
    "        ])\n"
   ]
  },
  {
   "cell_type": "markdown",
   "id": "4a9c88e4",
   "metadata": {},
   "source": [
    "### 1 - Sans supression des stopwords"
   ]
  },
  {
   "cell_type": "code",
   "execution_count": 25,
   "id": "78916848",
   "metadata": {},
   "outputs": [
    {
     "name": "stdout",
     "output_type": "stream",
     "text": [
      "              precision    recall  f1-score   support\n",
      "\n",
      "           1       0.64      0.64      0.64       157\n",
      "           2       0.18      0.29      0.22        31\n",
      "           3       0.17      0.26      0.21        46\n",
      "           4       0.29      0.45      0.35       105\n",
      "           5       0.91      0.76      0.83       661\n",
      "\n",
      "    accuracy                           0.67      1000\n",
      "   macro avg       0.44      0.48      0.45      1000\n",
      "weighted avg       0.74      0.67      0.70      1000\n",
      "\n"
     ]
    }
   ],
   "source": [
    "# J'entraine le modèle\n",
    "lr_pipeline.fit(X_train_prep, y_train)\n",
    "\n",
    "# J'évalue le modèle\n",
    "y_pred_baseline = lr_pipeline.predict(X_test_prep)\n",
    "print(classification_report(y_pred_baseline, y_test))"
   ]
  },
  {
   "cell_type": "code",
   "execution_count": 26,
   "id": "b21d2792",
   "metadata": {},
   "outputs": [
    {
     "name": "stdout",
     "output_type": "stream",
     "text": [
      "f1 score 0.7\n"
     ]
    }
   ],
   "source": [
    "#Je calcule son F1 score\n",
    "f1_baseline = round(f1_score(y_pred_baseline,y_test,average='weighted'),2)\n",
    "print('f1 score',f1_baseline)"
   ]
  },
  {
   "cell_type": "markdown",
   "id": "9c34ac86",
   "metadata": {},
   "source": [
    "### 2 - Avec la supression des stopwords"
   ]
  },
  {
   "cell_type": "code",
   "execution_count": 27,
   "id": "a2a6fa17",
   "metadata": {},
   "outputs": [
    {
     "name": "stdout",
     "output_type": "stream",
     "text": [
      "              precision    recall  f1-score   support\n",
      "\n",
      "           1       0.62      0.62      0.62       157\n",
      "           2       0.12      0.19      0.15        31\n",
      "           3       0.14      0.20      0.17        50\n",
      "           4       0.18      0.35      0.23        84\n",
      "           5       0.90      0.74      0.81       678\n",
      "\n",
      "    accuracy                           0.64      1000\n",
      "   macro avg       0.39      0.42      0.40      1000\n",
      "weighted avg       0.73      0.64      0.68      1000\n",
      "\n"
     ]
    }
   ],
   "source": [
    "# J'entraine le modèle\n",
    "lr_pipeline.fit(X_train_prep_sp, y_train)\n",
    "\n",
    "# J'évalue le modèle\n",
    "y_pred_sp = lr_pipeline.predict(X_test_prep_sp)\n",
    "print(classification_report(y_pred_sp, y_test))"
   ]
  },
  {
   "cell_type": "code",
   "execution_count": 28,
   "id": "aec30b7a",
   "metadata": {},
   "outputs": [
    {
     "name": "stdout",
     "output_type": "stream",
     "text": [
      "f1 score : 0.68\n"
     ]
    }
   ],
   "source": [
    "#Je calcule son score f1\n",
    "f1_baseline_sp = round(f1_score(y_pred_sp,y_test,average='weighted'),2)\n",
    "print('f1 score :',f1_baseline_sp)"
   ]
  },
  {
   "cell_type": "markdown",
   "id": "87efa82a",
   "metadata": {},
   "source": [
    "### Conclusion \n",
    "\n",
    "La stratégie la plus précise est celle avec les stopwords, comme notre intuition l'avait prédit. \n",
    "\n",
    "Pour les autres approches nous utliseront donc le prepocessing sans les stopwords. "
   ]
  },
  {
   "cell_type": "markdown",
   "id": "6324776a",
   "metadata": {},
   "source": [
    "## 3) Approche 1\n",
    "\n",
    "\n",
    "La première approche est de construire un MLP avec l'information de notre dataset encodée dans un BOW."
   ]
  },
  {
   "cell_type": "code",
   "execution_count": 29,
   "id": "a3ec86a3",
   "metadata": {},
   "outputs": [],
   "source": [
    "#On enocde les données d'entré en BOW. \n",
    "cv = CountVectorizer()\n",
    "X_train_encoded = cv.fit_transform(X_train_prep).toarray()\n",
    "X_val_encoded = cv.transform(X_val_prep).toarray()\n",
    "X_test_encoded = cv.transform(X_test_prep).toarray()"
   ]
  },
  {
   "cell_type": "code",
   "execution_count": 30,
   "id": "8fe54035",
   "metadata": {},
   "outputs": [
    {
     "data": {
      "text/plain": [
       "(5000, 5)"
      ]
     },
     "execution_count": 30,
     "metadata": {},
     "output_type": "execute_result"
    }
   ],
   "source": [
    "#OneHotEncoder est une fonction de sklearn qui encode un dataset d'entier en un dataset de vecteurs orthogonaux\n",
    "#Ici les données de sorties sont des entiers compris entre 0 et 4. \n",
    "#Donc, après encodage, les données seront des vecteurs unitaires de taille n = 5\n",
    "#Ainsi, 3 -encodage-> [0,0,0,1,0]\n",
    "\n",
    "enc = OneHotEncoder()\n",
    "y_train = np.array(y_train).reshape(-1,1)\n",
    "enc.fit(y_train)\n",
    "\n",
    "\n",
    "y_train_encoded = enc.transform(np.array(y_train).reshape(-1,1)).toarray()\n",
    "y_val_encoded = enc.transform(np.array(y_val).reshape(-1,1)).toarray()\n",
    "y_test_encoded = enc.transform(np.array(y_test).reshape(-1,1)).toarray()\n",
    "\n",
    "y_train_encoded.shape"
   ]
  },
  {
   "cell_type": "code",
   "execution_count": 31,
   "id": "91a3e9fa",
   "metadata": {},
   "outputs": [
    {
     "data": {
      "text/plain": [
       "(6646, 5)"
      ]
     },
     "execution_count": 31,
     "metadata": {},
     "output_type": "execute_result"
    }
   ],
   "source": [
    "# Définitions de constantes\n",
    "\n",
    "#feature_vector_length est le nombre de review dans les données d'entrainements\n",
    "feature_vector_length = X_train_encoded.shape[1]\n",
    "feature_vector_length, nb_classes"
   ]
  },
  {
   "cell_type": "markdown",
   "id": "649ed8d8",
   "metadata": {},
   "source": [
    "#### Construction du premier modèle\n",
    "\n",
    "J'ai tout d'abord construit un modèle simple, composé d'une couche cachée. Ce modèle divergeait à partir d'un 5 à 10 epochs. \n",
    "Pour ralentir l'apprentissage, j'ai diminué le nombre de neurones dans la couche cachée.\n",
    "\n",
    "Une autre solution pour diminuer la vitesser d'apprentissage est d'utiliser du dropout. Cependant, le risque lorsqu'on utilise du dropout est de diminuer la qualité de l'apprentissage, étant donné que l'on supprime des aléatoirement des entrées dans la couche Dense. "
   ]
  },
  {
   "cell_type": "code",
   "execution_count": 32,
   "id": "6726614f",
   "metadata": {},
   "outputs": [
    {
     "name": "stdout",
     "output_type": "stream",
     "text": [
      "Model: \"model\"\n",
      "_________________________________________________________________\n",
      " Layer (type)                Output Shape              Param #   \n",
      "=================================================================\n",
      " input_1 (InputLayer)        [(None, 6646)]            0         \n",
      "                                                                 \n",
      " dense (Dense)               (None, 12)                79764     \n",
      "                                                                 \n",
      " dense_1 (Dense)             (None, 5)                 65        \n",
      "                                                                 \n",
      "=================================================================\n",
      "Total params: 79,829\n",
      "Trainable params: 79,829\n",
      "Non-trainable params: 0\n",
      "_________________________________________________________________\n"
     ]
    }
   ],
   "source": [
    "inputs_ = tf.keras.Input(shape=(feature_vector_length,))\n",
    "\n",
    "h = Dense(12, activation='relu')(inputs_)\n",
    "\n",
    "output_ = Dense(nb_classes, activation='softmax')(h)\n",
    "\n",
    "model_appr_1 = Model(inputs_, output_)\n",
    "\n",
    "model_appr_1.summary()"
   ]
  },
  {
   "cell_type": "code",
   "execution_count": 33,
   "id": "7cee42db",
   "metadata": {},
   "outputs": [
    {
     "name": "stdout",
     "output_type": "stream",
     "text": [
      "Epoch 1/30\n",
      "20/20 [==============================] - 1s 29ms/step - loss: 1.5590 - accuracy: 0.4588 - val_loss: 1.5022 - val_accuracy: 0.5590\n",
      "Epoch 2/30\n",
      "20/20 [==============================] - 0s 19ms/step - loss: 1.4443 - accuracy: 0.5382 - val_loss: 1.4033 - val_accuracy: 0.5590\n",
      "Epoch 3/30\n",
      "20/20 [==============================] - 0s 19ms/step - loss: 1.3268 - accuracy: 0.5570 - val_loss: 1.3125 - val_accuracy: 0.5820\n",
      "Epoch 4/30\n",
      "20/20 [==============================] - 0s 19ms/step - loss: 1.2100 - accuracy: 0.6140 - val_loss: 1.2397 - val_accuracy: 0.6130\n",
      "Epoch 5/30\n",
      "20/20 [==============================] - 0s 19ms/step - loss: 1.1138 - accuracy: 0.6450 - val_loss: 1.1770 - val_accuracy: 0.6240\n",
      "Epoch 6/30\n",
      "20/20 [==============================] - 0s 20ms/step - loss: 1.0353 - accuracy: 0.6696 - val_loss: 1.1308 - val_accuracy: 0.6390\n",
      "Epoch 7/30\n",
      "20/20 [==============================] - 0s 19ms/step - loss: 0.9712 - accuracy: 0.6838 - val_loss: 1.0962 - val_accuracy: 0.6480\n",
      "Epoch 8/30\n",
      "20/20 [==============================] - 0s 20ms/step - loss: 0.9153 - accuracy: 0.6978 - val_loss: 1.0669 - val_accuracy: 0.6510\n",
      "Epoch 9/30\n",
      "20/20 [==============================] - 0s 20ms/step - loss: 0.8637 - accuracy: 0.7200 - val_loss: 1.0423 - val_accuracy: 0.6540\n",
      "Epoch 10/30\n",
      "20/20 [==============================] - 0s 19ms/step - loss: 0.8130 - accuracy: 0.7384 - val_loss: 1.0187 - val_accuracy: 0.6560\n",
      "Epoch 11/30\n",
      "20/20 [==============================] - 0s 19ms/step - loss: 0.7684 - accuracy: 0.7530 - val_loss: 1.0018 - val_accuracy: 0.6620\n",
      "Epoch 12/30\n",
      "20/20 [==============================] - 0s 20ms/step - loss: 0.7281 - accuracy: 0.7676 - val_loss: 0.9861 - val_accuracy: 0.6650\n",
      "Epoch 13/30\n",
      "20/20 [==============================] - 0s 18ms/step - loss: 0.6885 - accuracy: 0.7812 - val_loss: 0.9664 - val_accuracy: 0.6630\n",
      "Epoch 14/30\n",
      "20/20 [==============================] - 0s 19ms/step - loss: 0.6494 - accuracy: 0.7966 - val_loss: 0.9446 - val_accuracy: 0.6720\n",
      "Epoch 15/30\n",
      "20/20 [==============================] - 0s 19ms/step - loss: 0.6107 - accuracy: 0.8102 - val_loss: 0.9338 - val_accuracy: 0.6750\n",
      "Epoch 16/30\n",
      "20/20 [==============================] - 0s 18ms/step - loss: 0.5792 - accuracy: 0.8198 - val_loss: 0.9307 - val_accuracy: 0.6760\n",
      "Epoch 17/30\n",
      "20/20 [==============================] - 0s 19ms/step - loss: 0.5515 - accuracy: 0.8286 - val_loss: 0.9352 - val_accuracy: 0.6790\n",
      "Epoch 18/30\n",
      "20/20 [==============================] - 0s 19ms/step - loss: 0.5259 - accuracy: 0.8370 - val_loss: 0.9301 - val_accuracy: 0.6770\n",
      "Epoch 19/30\n",
      "20/20 [==============================] - 0s 19ms/step - loss: 0.5031 - accuracy: 0.8458 - val_loss: 0.9287 - val_accuracy: 0.6840\n",
      "Epoch 20/30\n",
      "20/20 [==============================] - 0s 19ms/step - loss: 0.4824 - accuracy: 0.8518 - val_loss: 0.9299 - val_accuracy: 0.6800\n",
      "Epoch 21/30\n",
      "20/20 [==============================] - 0s 18ms/step - loss: 0.4636 - accuracy: 0.8582 - val_loss: 0.9362 - val_accuracy: 0.6800\n",
      "Epoch 22/30\n",
      "20/20 [==============================] - 0s 19ms/step - loss: 0.4463 - accuracy: 0.8624 - val_loss: 0.9397 - val_accuracy: 0.6780\n",
      "Epoch 23/30\n",
      "20/20 [==============================] - 0s 19ms/step - loss: 0.4306 - accuracy: 0.8662 - val_loss: 0.9486 - val_accuracy: 0.6770\n",
      "Epoch 24/30\n",
      "20/20 [==============================] - 0s 19ms/step - loss: 0.4157 - accuracy: 0.8734 - val_loss: 0.9452 - val_accuracy: 0.6750\n",
      "Epoch 25/30\n",
      "20/20 [==============================] - 0s 18ms/step - loss: 0.4025 - accuracy: 0.8782 - val_loss: 0.9571 - val_accuracy: 0.6740\n",
      "Epoch 26/30\n",
      "20/20 [==============================] - 0s 20ms/step - loss: 0.3895 - accuracy: 0.8840 - val_loss: 0.9641 - val_accuracy: 0.6750\n",
      "Epoch 27/30\n",
      "20/20 [==============================] - 0s 20ms/step - loss: 0.3776 - accuracy: 0.8894 - val_loss: 0.9669 - val_accuracy: 0.6770\n",
      "Epoch 28/30\n",
      "20/20 [==============================] - 0s 21ms/step - loss: 0.3665 - accuracy: 0.8932 - val_loss: 0.9758 - val_accuracy: 0.6790\n",
      "Epoch 29/30\n",
      "20/20 [==============================] - 0s 21ms/step - loss: 0.3558 - accuracy: 0.8966 - val_loss: 0.9846 - val_accuracy: 0.6760\n",
      "Epoch 30/30\n",
      "20/20 [==============================] - 0s 20ms/step - loss: 0.3460 - accuracy: 0.9000 - val_loss: 0.9934 - val_accuracy: 0.6740\n"
     ]
    }
   ],
   "source": [
    "# Configure the model and start training\n",
    "# Stop training with early stopping with patience of 20\n",
    "callbacks_list = [EarlyStopping(monitor=\"val_accuracy\", min_delta=0.0005, patience=200, verbose=1, mode=\"auto\",\n",
    "                                restore_best_weights=True)\n",
    "                 ]\n",
    "\n",
    "model_appr_1.compile(loss=\"categorical_crossentropy\", optimizer='adam', metrics=['accuracy'])\n",
    "history_appr_1 = model_appr_1.fit(X_train_encoded, y_train_encoded,\n",
    "                    validation_data=(X_val_encoded, y_val_encoded),\n",
    "                    epochs=30, batch_size=250,\n",
    "                    callbacks=callbacks_list, verbose=1)"
   ]
  },
  {
   "cell_type": "code",
   "execution_count": 34,
   "id": "f758b29f",
   "metadata": {},
   "outputs": [],
   "source": [
    "# plot history\n",
    "def babysit(history):\n",
    "    fig, (ax1, ax2) = plt.subplots(1, 2, figsize=(18,6))\n",
    "\n",
    "    # summarize history for loss\n",
    "    ax1.plot(history.history['loss'])\n",
    "    ax1.plot(history.history['val_loss'])\n",
    "    ax1.set_title('model loss')\n",
    "    ax1.set_ylabel('loss')\n",
    "    ax1.set_xlabel('epoch')\n",
    "    ax1.legend(['loss train', 'loss val'], loc='best')\n",
    "\n",
    "    # summarize history for loss\n",
    "    ax2.plot(history.history['accuracy'], \"-\", c=\"blue\")\n",
    "    ax2.plot(history.history['val_accuracy'], \"--\", c=\"blue\")\n",
    "    ax2.set_title('model metrics')\n",
    "    ax2.set_ylabel('score')\n",
    "    ax2.set_xlabel('epoch')\n",
    "    ax2.legend(['acc', 'val acc'], loc='best')\n",
    "\n",
    "    plt.show()"
   ]
  },
  {
   "cell_type": "code",
   "execution_count": 35,
   "id": "bdab09e4",
   "metadata": {},
   "outputs": [
    {
     "data": {
      "image/png": "[encoded data removed]",
      "text/plain": [
       "<Figure size 1296x432 with 2 Axes>"
      ]
     },
     "metadata": {
      "needs_background": "light"
     },
     "output_type": "display_data"
    }
   ],
   "source": [
    "babysit(history_appr_1)"
   ]
  },
  {
   "cell_type": "code",
   "execution_count": 36,
   "id": "464e9381",
   "metadata": {},
   "outputs": [
    {
     "name": "stdout",
     "output_type": "stream",
     "text": [
      "              precision    recall  f1-score   support\n",
      "\n",
      "           1       0.68      0.68      0.68       159\n",
      "           2       0.36      0.20      0.25        51\n",
      "           3       0.30      0.21      0.25        71\n",
      "           4       0.46      0.26      0.33       163\n",
      "           5       0.76      0.91      0.83       556\n",
      "\n",
      "    accuracy                           0.68      1000\n",
      "   macro avg       0.51      0.45      0.47      1000\n",
      "weighted avg       0.64      0.68      0.65      1000\n",
      "\n"
     ]
    }
   ],
   "source": [
    "# On évalue le modèle\n",
    "y_pred_encoded_ap_1 = model_appr_1.predict(X_test_encoded)\n",
    "y_pred_ap_1 = np.argmax(y_pred_encoded_ap_1,axis=1) + 1\n",
    "\n",
    "print(classification_report(y_test, y_pred_ap_1))"
   ]
  },
  {
   "cell_type": "code",
   "execution_count": 37,
   "id": "0d9afbaf",
   "metadata": {},
   "outputs": [
    {
     "name": "stdout",
     "output_type": "stream",
     "text": [
      "f1 score : 0.65\n"
     ]
    }
   ],
   "source": [
    "f1_ap_1 = round(f1_score(y_test,y_pred_ap_1,average='weighted'),2)\n",
    "print('f1 score :',f1_ap_1)"
   ]
  },
  {
   "cell_type": "markdown",
   "id": "7f0d2367",
   "metadata": {},
   "source": [
    "### Conclusion\n",
    "\n",
    "Notre modèle est moins performant que notre baseline. Notre approche n'est pas optimale. En effet, les BOW ne permettent pas d'encoder le contexte d'un mot. "
   ]
  },
  {
   "cell_type": "markdown",
   "id": "a00449db",
   "metadata": {},
   "source": [
    "## 4) Approche 2 \n",
    "\n",
    "La deuxième approche est d'associer un MLP avec de l'embedding \n",
    "\n",
    "L'approche BOW présente un défaut principale, elle ne garde pas l'information de la place du mot dans la phrase. Or, connaître la position du mot dans la phrase revient à connaître son contexte sémentique.\n",
    "\n",
    "L'embedding repose sur l'idée d'encoder les mots en fonction d'un corpus de vocabulaire et ainsi ratacher le mot à son contexte."
   ]
  },
  {
   "cell_type": "code",
   "execution_count": 38,
   "id": "8873f881",
   "metadata": {},
   "outputs": [],
   "source": [
    "vocab_size = vocabulary_size\n",
    "\n",
    "#Ici, on choisit que la longueur maximale de la description vectorielle d'un mot est la taille du vocubalaire à 90% le plus récurrent\n",
    "n = 0.90\n",
    "lengths = [len(txt.split()) for txt in X_train]\n",
    "fdist = FreqDist(lengths)  \n",
    "\n",
    "cumul = 0\n",
    "for max_len in range(max(lengths)):\n",
    "    cumul += fdist[max_len]\n",
    "    if cumul>=n*len(X_train):\n",
    "        break\n",
    "\n",
    "embed_dim = 100 # embedding dimension : Dans la littérature, on retrouve le plus fréquemment des taille d'embedding de 50,100,200. "
   ]
  },
  {
   "cell_type": "code",
   "execution_count": 39,
   "id": "915d9196",
   "metadata": {},
   "outputs": [],
   "source": [
    "vectorize_layer = TextVectorization(max_tokens=vocab_size,\n",
    "              output_mode='int',\n",
    "              output_sequence_length=max_len)"
   ]
  },
  {
   "cell_type": "code",
   "execution_count": 40,
   "id": "c7841cdb",
   "metadata": {},
   "outputs": [],
   "source": [
    "vectorize_layer.adapt(X_train)"
   ]
  },
  {
   "cell_type": "code",
   "execution_count": 41,
   "id": "6ec7ad44",
   "metadata": {},
   "outputs": [
    {
     "name": "stdout",
     "output_type": "stream",
     "text": [
      "Model: \"model_1\"\n",
      "_________________________________________________________________\n",
      " Layer (type)                Output Shape              Param #   \n",
      "=================================================================\n",
      " input (InputLayer)          [(None, 1)]               0         \n",
      "                                                                 \n",
      " text_vectorization (TextVec  (None, 96)               0         \n",
      " torization)                                                     \n",
      "                                                                 \n",
      " Embedding (Embedding)       (None, 96, 100)           1309900   \n",
      "                                                                 \n",
      " flatten (Flatten)           (None, 9600)              0         \n",
      "                                                                 \n",
      " dropout (Dropout)           (None, 9600)              0         \n",
      "                                                                 \n",
      " hidden (Dense)              (None, 16)                153616    \n",
      "                                                                 \n",
      " dropout_1 (Dropout)         (None, 16)                0         \n",
      "                                                                 \n",
      " output (Dense)              (None, 5)                 85        \n",
      "                                                                 \n",
      "=================================================================\n",
      "Total params: 1,463,601\n",
      "Trainable params: 1,463,601\n",
      "Non-trainable params: 0\n",
      "_________________________________________________________________\n"
     ]
    }
   ],
   "source": [
    "input_ = Input(shape=(1, ), name=\"input\", dtype=tf.string)\n",
    "\n",
    "x = vectorize_layer(input_)\n",
    "\n",
    "x = Embedding(vocab_size, embed_dim, name=\"Embedding\")(x)\n",
    "\n",
    "x = Flatten()(x)\n",
    "\n",
    "x = Dropout(0.3)(x)\n",
    "\n",
    "x = Dense(16, activation=\"relu\", name=\"hidden\")(x)\n",
    "\n",
    "x = Dropout(0.2)(x)\n",
    "\n",
    "output_ = Dense(nb_classes, activation='softmax', name=\"output\")(x)\n",
    "\n",
    "model_appr_2 = Model(input_, output_)\n",
    "\n",
    "model_appr_2.summary()"
   ]
  },
  {
   "cell_type": "code",
   "execution_count": 42,
   "id": "746556ac",
   "metadata": {},
   "outputs": [],
   "source": [
    "# Configure the model and start training\n",
    "# Stop training with early stopping with patience of 20\n",
    "callbacks_list = [EarlyStopping(monitor=\"val_accuracy\", min_delta=0.0005, patience=200, verbose=1, mode=\"auto\",\n",
    "                                restore_best_weights=True)\n",
    "                 ]\n",
    "model_appr_2.compile(loss=\"categorical_crossentropy\", optimizer='adam', metrics=['accuracy'])"
   ]
  },
  {
   "cell_type": "code",
   "execution_count": 43,
   "id": "439717d3",
   "metadata": {},
   "outputs": [
    {
     "name": "stdout",
     "output_type": "stream",
     "text": [
      "Epoch 1/20\n",
      "20/20 [==============================] - 3s 109ms/step - loss: 1.3598 - accuracy: 0.4918 - val_loss: 1.2241 - val_accuracy: 0.5580\n",
      "Epoch 2/20\n",
      "20/20 [==============================] - 2s 86ms/step - loss: 1.2559 - accuracy: 0.5388 - val_loss: 1.1953 - val_accuracy: 0.5590\n",
      "Epoch 3/20\n",
      "20/20 [==============================] - 2s 90ms/step - loss: 1.1838 - accuracy: 0.5634 - val_loss: 1.1423 - val_accuracy: 0.5910\n",
      "Epoch 4/20\n",
      "20/20 [==============================] - 2s 90ms/step - loss: 1.0929 - accuracy: 0.6124 - val_loss: 1.0859 - val_accuracy: 0.6260\n",
      "Epoch 5/20\n",
      "20/20 [==============================] - 2s 89ms/step - loss: 0.9989 - accuracy: 0.6488 - val_loss: 1.0410 - val_accuracy: 0.6330\n",
      "Epoch 6/20\n",
      "20/20 [==============================] - 2s 91ms/step - loss: 0.9039 - accuracy: 0.6788 - val_loss: 0.9922 - val_accuracy: 0.6530\n",
      "Epoch 7/20\n",
      "20/20 [==============================] - 2s 108ms/step - loss: 0.8137 - accuracy: 0.7180 - val_loss: 0.9537 - val_accuracy: 0.6580\n",
      "Epoch 8/20\n",
      "20/20 [==============================] - 2s 97ms/step - loss: 0.7335 - accuracy: 0.7472 - val_loss: 0.9390 - val_accuracy: 0.6590\n",
      "Epoch 9/20\n",
      "20/20 [==============================] - 2s 85ms/step - loss: 0.6544 - accuracy: 0.7862 - val_loss: 0.9493 - val_accuracy: 0.6690\n",
      "Epoch 10/20\n",
      "20/20 [==============================] - 2s 79ms/step - loss: 0.5822 - accuracy: 0.8178 - val_loss: 0.9386 - val_accuracy: 0.6590\n",
      "Epoch 11/20\n",
      "20/20 [==============================] - 2s 85ms/step - loss: 0.5223 - accuracy: 0.8384 - val_loss: 0.9480 - val_accuracy: 0.6590\n",
      "Epoch 12/20\n",
      "20/20 [==============================] - 2s 93ms/step - loss: 0.4705 - accuracy: 0.8552 - val_loss: 0.9620 - val_accuracy: 0.6650\n",
      "Epoch 13/20\n",
      "20/20 [==============================] - 2s 86ms/step - loss: 0.4266 - accuracy: 0.8772 - val_loss: 0.9553 - val_accuracy: 0.6620\n",
      "Epoch 14/20\n",
      "20/20 [==============================] - 2s 94ms/step - loss: 0.3889 - accuracy: 0.8870 - val_loss: 0.9737 - val_accuracy: 0.6530\n",
      "Epoch 15/20\n",
      "20/20 [==============================] - 2s 90ms/step - loss: 0.3620 - accuracy: 0.8990 - val_loss: 1.0168 - val_accuracy: 0.6460\n",
      "Epoch 16/20\n",
      "20/20 [==============================] - 2s 86ms/step - loss: 0.3303 - accuracy: 0.9078 - val_loss: 1.0042 - val_accuracy: 0.6450\n",
      "Epoch 17/20\n",
      "20/20 [==============================] - 2s 88ms/step - loss: 0.3124 - accuracy: 0.9158 - val_loss: 1.0300 - val_accuracy: 0.6390\n",
      "Epoch 18/20\n",
      "20/20 [==============================] - 2s 97ms/step - loss: 0.2949 - accuracy: 0.9192 - val_loss: 1.0382 - val_accuracy: 0.6360\n",
      "Epoch 19/20\n",
      "20/20 [==============================] - 2s 94ms/step - loss: 0.2695 - accuracy: 0.9264 - val_loss: 1.0517 - val_accuracy: 0.6370\n",
      "Epoch 20/20\n",
      "20/20 [==============================] - 2s 121ms/step - loss: 0.2554 - accuracy: 0.9292 - val_loss: 1.0642 - val_accuracy: 0.6360\n"
     ]
    }
   ],
   "source": [
    "history_appr_2 = model_appr_2.fit(np.array(X_train_prep), y_train_encoded,\n",
    "                    validation_data=(X_val,y_val_encoded),\n",
    "                    epochs=20, batch_size=250,\n",
    "                    callbacks=callbacks_list, verbose=1)"
   ]
  },
  {
   "cell_type": "code",
   "execution_count": 44,
   "id": "b0968fe4",
   "metadata": {},
   "outputs": [
    {
     "data": {
      "image/png": "[encoded data removed]",
      "text/plain": [
       "<Figure size 1296x432 with 2 Axes>"
      ]
     },
     "metadata": {
      "needs_background": "light"
     },
     "output_type": "display_data"
    }
   ],
   "source": [
    "# Babysit the model\n",
    "babysit(history_appr_2)"
   ]
  },
  {
   "cell_type": "code",
   "execution_count": 45,
   "id": "d650438d",
   "metadata": {},
   "outputs": [
    {
     "name": "stdout",
     "output_type": "stream",
     "text": [
      "              precision    recall  f1-score   support\n",
      "\n",
      "           1       0.59      0.62      0.60       159\n",
      "           2       0.15      0.10      0.12        51\n",
      "           3       0.21      0.13      0.16        71\n",
      "           4       0.34      0.21      0.26       163\n",
      "           5       0.75      0.88      0.81       556\n",
      "\n",
      "    accuracy                           0.64      1000\n",
      "   macro avg       0.41      0.39      0.39      1000\n",
      "weighted avg       0.59      0.64      0.61      1000\n",
      "\n"
     ]
    }
   ],
   "source": [
    "# Evaluate the model\n",
    "y_pred_encoded_ap_2 = model_appr_2.predict(X_test)\n",
    "y_pred_ap_2 = np.argmax(y_pred_encoded_ap_2,axis=1) + 1\n",
    "\n",
    "print(classification_report(y_test, y_pred_ap_2))"
   ]
  },
  {
   "cell_type": "code",
   "execution_count": 46,
   "id": "53cd7ef5",
   "metadata": {},
   "outputs": [
    {
     "data": {
      "text/plain": [
       "0.61"
      ]
     },
     "execution_count": 46,
     "metadata": {},
     "output_type": "execute_result"
    }
   ],
   "source": [
    "f1_ap_2 = round(f1_score(y_test,y_pred_ap_2,average=\"weighted\"),2)\n",
    "f1_ap_2"
   ]
  },
  {
   "cell_type": "markdown",
   "id": "9df1393c",
   "metadata": {},
   "source": [
    "## 5) Approche 3\n",
    "\n",
    "La troisième approche est également de l'embedding avec un corpus déjà existant. On ne le construit pas à partir de notre dataset.\n",
    "\n",
    "On utilise le groupe d'algortithme Word2Vec.\n",
    "\n",
    "Word2Vec fonctionne en construisant un embedding sur un large corpus et les poids associés aux vecteurs \"mots\" sont définis avec les contextes de ces mots dans le corpus. "
   ]
  },
  {
   "cell_type": "code",
   "execution_count": 120,
   "id": "41edfe55",
   "metadata": {},
   "outputs": [
    {
     "data": {
      "text/plain": [
       "10927"
      ]
     },
     "execution_count": 120,
     "metadata": {},
     "output_type": "execute_result"
    }
   ],
   "source": [
    "voc = vectorize_layer.get_vocabulary()\n",
    "#Word index est un dictionnaire de notre dataset\n",
    "word_index = dict(zip(voc, range(len(voc))))\n",
    "len(word_index)"
   ]
  },
  {
   "cell_type": "code",
   "execution_count": 48,
   "id": "650e67c8",
   "metadata": {},
   "outputs": [],
   "source": [
    "texts_vec = vectorize_layer(X_train_prep)"
   ]
  },
  {
   "cell_type": "code",
   "execution_count": 136,
   "id": "ca6dfcc7",
   "metadata": {},
   "outputs": [
    {
     "name": "stdout",
     "output_type": "stream",
     "text": [
      "^C\n"
     ]
    },
    {
     "name": "stderr",
     "output_type": "stream",
     "text": [
      "[glove.6B.zip]\n",
      "  End-of-central-directory signature not found.  Either this file is not\n",
      "  a zipfile, or it constitutes one disk of a multi-part archive.  In the\n",
      "  latter case the central directory and zipfile comment will be found on\n",
      "  the last disk(s) of this archive.\n",
      "note:  glove.6B.zip may be a plain executable, not an archive\n",
      "unzip:  cannot find zipfile directory in one of glove.6B.zip or\n",
      "        glove.6B.zip.zip, and cannot find glove.6B.zip.ZIP, period.\n"
     ]
    }
   ],
   "source": [
    "# Download the pre-trained embeddin matrix for exemple from glove\n",
    "! wget http://nlp.stanford.edu/data/glove.6B.zip\n",
    "! unzip -q glove.6B.zip"
   ]
  },
  {
   "cell_type": "code",
   "execution_count": 116,
   "id": "61b64294",
   "metadata": {},
   "outputs": [],
   "source": [
    "#On importe notre matrice Word2Vec de taille 100. \n",
    "path_to_glove_file = \"glove.6B.100d.txt\"\n",
    "\n",
    "#On construit un index répertoriant les  \n",
    "embeddings_index = {}\n",
    "with open(path_to_glove_file, encoding=\"utf8\") as f:\n",
    "    for line in f:\n",
    "        word, coefs = line.split(maxsplit=1)\n",
    "        coefs = np.fromstring(coefs, \"f\", sep=\" \")\n",
    "        embeddings_index[word] = coefs\n"
   ]
  },
  {
   "cell_type": "code",
   "execution_count": 125,
   "id": "6e92ef31",
   "metadata": {},
   "outputs": [
    {
     "data": {
      "text/plain": [
       "10929"
      ]
     },
     "execution_count": 125,
     "metadata": {},
     "output_type": "execute_result"
    }
   ],
   "source": [
    "# Build the corresponding matrix (cf. compagnon notebook)\n",
    "num_tokens = len(voc) + 2 # UNK/OOV and PAD\n",
    "hits = 0\n",
    "misses = 0\n",
    "\n",
    "# Prepare embedding matrix\n",
    "embedding_matrix = np.zeros((num_tokens, embed_dim))\n",
    "for word, i in word_index.items():\n",
    "    embedding_vector = embeddings_index.get(word)\n",
    "    if embedding_vector is not None:\n",
    "        # Words not found in embedding index will be all-zeros.\n",
    "        # This includes the representation for \"padding\" and \"OOV\"\n",
    "        embedding_matrix[i] = embedding_vector\n",
    "        hits += 1\n",
    "    else:\n",
    "        misses += 1\n",
    "        \n",
    "voab_size_em  = embedding_matrix.shape[0]\n",
    "voab_size_em"
   ]
  },
  {
   "cell_type": "code",
   "execution_count": 126,
   "id": "c84c65e4",
   "metadata": {},
   "outputs": [
    {
     "name": "stdout",
     "output_type": "stream",
     "text": [
      "Model: \"model_9\"\n",
      "_________________________________________________________________\n",
      " Layer (type)                Output Shape              Param #   \n",
      "=================================================================\n",
      " input_12 (InputLayer)       [(None, 1)]               0         \n",
      "                                                                 \n",
      " text_vectorization (TextVec  (None, 96)               0         \n",
      " torization)                                                     \n",
      "                                                                 \n",
      " Embedding (Embedding)       (None, 96, 100)           1092900   \n",
      "                                                                 \n",
      " flatten_8 (Flatten)         (None, 9600)              0         \n",
      "                                                                 \n",
      " dense_16 (Dense)            (None, 12)                115212    \n",
      "                                                                 \n",
      " dropout_8 (Dropout)         (None, 12)                0         \n",
      "                                                                 \n",
      " dense_17 (Dense)            (None, 5)                 65        \n",
      "                                                                 \n",
      "=================================================================\n",
      "Total params: 1,208,177\n",
      "Trainable params: 1,208,177\n",
      "Non-trainable params: 0\n",
      "_________________________________________________________________\n"
     ]
    }
   ],
   "source": [
    "# define the model\n",
    "input_ = Input(shape=(1,), dtype=tf.string)\n",
    "\n",
    "x = vectorize_layer(input_)\n",
    "\n",
    "x = Embedding(voab_size_em, embed_dim,weights=[embedding_matrix], name=\"Embedding\")(x)\n",
    "\n",
    "x = Flatten()(x)\n",
    "\n",
    "hidden_1 = Dense(12, activation=\"relu\")(x)\n",
    "\n",
    "dropout_1 = Dropout(0.3)(hidden_1)\n",
    "\n",
    "output_ = Dense(nb_classes, activation='sigmoid')(dropout_1)\n",
    "\n",
    "model_ap_3 = Model(input_, output_)\n",
    "\n",
    "model_ap_3.summary()"
   ]
  },
  {
   "cell_type": "code",
   "execution_count": 127,
   "id": "6c679eeb",
   "metadata": {},
   "outputs": [],
   "source": [
    "model_ap_3.compile(optimizer='adam', loss='categorical_crossentropy', metrics=['accuracy'])"
   ]
  },
  {
   "cell_type": "code",
   "execution_count": 128,
   "id": "37a10995",
   "metadata": {},
   "outputs": [
    {
     "name": "stdout",
     "output_type": "stream",
     "text": [
      "Epoch 1/20\n",
      "20/20 [==============================] - 2s 65ms/step - loss: 1.4992 - accuracy: 0.4488 - val_loss: 1.3764 - val_accuracy: 0.5550\n",
      "Epoch 2/20\n",
      "20/20 [==============================] - 1s 50ms/step - loss: 1.3375 - accuracy: 0.5322 - val_loss: 1.2383 - val_accuracy: 0.5770\n",
      "Epoch 3/20\n",
      "20/20 [==============================] - 1s 53ms/step - loss: 1.2175 - accuracy: 0.5620 - val_loss: 1.1688 - val_accuracy: 0.5770\n",
      "Epoch 4/20\n",
      "20/20 [==============================] - 1s 58ms/step - loss: 1.1365 - accuracy: 0.5698 - val_loss: 1.1508 - val_accuracy: 0.5830\n",
      "Epoch 5/20\n",
      "20/20 [==============================] - 1s 54ms/step - loss: 1.0579 - accuracy: 0.5822 - val_loss: 1.1102 - val_accuracy: 0.5950\n",
      "Epoch 6/20\n",
      "20/20 [==============================] - 1s 58ms/step - loss: 1.0193 - accuracy: 0.5936 - val_loss: 1.0924 - val_accuracy: 0.6020\n",
      "Epoch 7/20\n",
      "20/20 [==============================] - 1s 50ms/step - loss: 0.9665 - accuracy: 0.5992 - val_loss: 1.0756 - val_accuracy: 0.6040\n",
      "Epoch 8/20\n",
      "20/20 [==============================] - 1s 51ms/step - loss: 0.9268 - accuracy: 0.6104 - val_loss: 1.0788 - val_accuracy: 0.6070\n",
      "Epoch 9/20\n",
      "20/20 [==============================] - 1s 54ms/step - loss: 0.8931 - accuracy: 0.6190 - val_loss: 1.0701 - val_accuracy: 0.6120\n",
      "Epoch 10/20\n",
      "20/20 [==============================] - 1s 49ms/step - loss: 0.8476 - accuracy: 0.6522 - val_loss: 1.0479 - val_accuracy: 0.6340\n",
      "Epoch 11/20\n",
      "20/20 [==============================] - 1s 50ms/step - loss: 0.8044 - accuracy: 0.6722 - val_loss: 1.0483 - val_accuracy: 0.6390\n",
      "Epoch 12/20\n",
      "20/20 [==============================] - 1s 49ms/step - loss: 0.7865 - accuracy: 0.6768 - val_loss: 1.0398 - val_accuracy: 0.6430\n",
      "Epoch 13/20\n",
      "20/20 [==============================] - 1s 48ms/step - loss: 0.7432 - accuracy: 0.6866 - val_loss: 1.0473 - val_accuracy: 0.6490\n",
      "Epoch 14/20\n",
      "20/20 [==============================] - 1s 51ms/step - loss: 0.7030 - accuracy: 0.7048 - val_loss: 1.0446 - val_accuracy: 0.6510\n",
      "Epoch 15/20\n",
      "20/20 [==============================] - 1s 55ms/step - loss: 0.6676 - accuracy: 0.7246 - val_loss: 1.0564 - val_accuracy: 0.6630\n",
      "Epoch 16/20\n",
      "20/20 [==============================] - 1s 51ms/step - loss: 0.6514 - accuracy: 0.7358 - val_loss: 1.0471 - val_accuracy: 0.6560\n",
      "Epoch 17/20\n",
      "20/20 [==============================] - 1s 50ms/step - loss: 0.6323 - accuracy: 0.7484 - val_loss: 1.0628 - val_accuracy: 0.6570\n",
      "Epoch 18/20\n",
      "20/20 [==============================] - 1s 48ms/step - loss: 0.6044 - accuracy: 0.7570 - val_loss: 1.0942 - val_accuracy: 0.6540\n",
      "Epoch 19/20\n",
      "20/20 [==============================] - 1s 48ms/step - loss: 0.5837 - accuracy: 0.7734 - val_loss: 1.0865 - val_accuracy: 0.6540\n",
      "Epoch 20/20\n",
      "20/20 [==============================] - 1s 47ms/step - loss: 0.5575 - accuracy: 0.7936 - val_loss: 1.1379 - val_accuracy: 0.6600\n"
     ]
    }
   ],
   "source": [
    "# fit model using ealy stopping\n",
    "callbacks_list = [EarlyStopping(monitor=\"val_accuracy\", min_delta=0.0005, patience=200, verbose=1, mode=\"auto\",\n",
    "                                restore_best_weights=True)]\n",
    "\n",
    "history_ap_3 = model_ap_3.fit(np.array(X_train_prep), y_train_encoded,\n",
    "                    validation_data=(np.array(X_val_prep),y_val_encoded),\n",
    "                    epochs=20, batch_size=250,\n",
    "                    callbacks=callbacks_list, verbose=1)"
   ]
  },
  {
   "cell_type": "code",
   "execution_count": 129,
   "id": "2f303605",
   "metadata": {},
   "outputs": [
    {
     "data": {
      "image/png": "[encoded data removed]",
      "text/plain": [
       "<Figure size 1296x432 with 2 Axes>"
      ]
     },
     "metadata": {
      "needs_background": "light"
     },
     "output_type": "display_data"
    }
   ],
   "source": [
    "# Babysit the model\n",
    "babysit(history_ap_3)"
   ]
  },
  {
   "cell_type": "code",
   "execution_count": 130,
   "id": "1e0df17a",
   "metadata": {},
   "outputs": [
    {
     "name": "stdout",
     "output_type": "stream",
     "text": [
      "              precision    recall  f1-score   support\n",
      "\n",
      "           1       0.54      0.46      0.50       159\n",
      "           2       0.17      0.02      0.04        51\n",
      "           3       0.15      0.06      0.08        71\n",
      "           4       0.41      0.12      0.19       163\n",
      "           5       0.67      0.95      0.78       556\n",
      "\n",
      "    accuracy                           0.62      1000\n",
      "   macro avg       0.39      0.32      0.32      1000\n",
      "weighted avg       0.55      0.62      0.55      1000\n",
      "\n"
     ]
    }
   ],
   "source": [
    "# Evaluate the model\n",
    "y_pred_encoded_ap_3 = model_ap_3.predict(X_test)\n",
    "y_pred_ap_3 = np.argmax(y_pred_encoded_ap_3,axis=1) + 1\n",
    "\n",
    "print(classification_report(y_test, y_pred_ap_3))"
   ]
  },
  {
   "cell_type": "code",
   "execution_count": 131,
   "id": "35585265",
   "metadata": {},
   "outputs": [
    {
     "data": {
      "text/plain": [
       "0.55"
      ]
     },
     "execution_count": 131,
     "metadata": {},
     "output_type": "execute_result"
    }
   ],
   "source": [
    "f1_ap_3 = round(f1_score(y_test,y_pred_ap_3,average=\"weighted\"),2)\n",
    "f1_ap_3"
   ]
  },
  {
   "cell_type": "markdown",
   "id": "162b9899",
   "metadata": {},
   "source": [
    "Le résultat est très insatisfaisant, nous n'allons donc pas garder cette stratégie d'embedding pour l'approche 4\n",
    "Ce résulat peut s'expliquer par le fait que le corpus utilisé pour construire notre embedding n'est pas adapté à notre dataset. "
   ]
  },
  {
   "cell_type": "markdown",
   "id": "f6a1c44c",
   "metadata": {},
   "source": [
    "## 6) Approche 4 \n",
    "\n",
    "MLP avec des réseaux de neuronnes récurrents"
   ]
  },
  {
   "cell_type": "code",
   "execution_count": 57,
   "id": "b0b0598f",
   "metadata": {},
   "outputs": [],
   "source": [
    "recurrent_size = 64 # Recurrent size\n",
    "hidden_size = recurrent_size//4    # Hidden layer\n",
    "dropout_rate = 0.3   # Dropout rate for regularization"
   ]
  },
  {
   "cell_type": "code",
   "execution_count": 93,
   "id": "47151bfa",
   "metadata": {},
   "outputs": [
    {
     "name": "stdout",
     "output_type": "stream",
     "text": [
      "Model: \"model_8\"\n",
      "_________________________________________________________________\n",
      " Layer (type)                Output Shape              Param #   \n",
      "=================================================================\n",
      " input_8 (InputLayer)        [(None, 1)]               0         \n",
      "                                                                 \n",
      " text_vectorization (TextVec  (None, 96)               0         \n",
      " torization)                                                     \n",
      "                                                                 \n",
      " Embedding (Embedding)       (None, 96, 100)           1309900   \n",
      "                                                                 \n",
      " lstm_5 (LSTM)               (None, 96, 64)            42240     \n",
      "                                                                 \n",
      " average_pooling1d_3 (Averag  (None, 1, 64)            0         \n",
      " ePooling1D)                                                     \n",
      "                                                                 \n",
      " flatten_7 (Flatten)         (None, 64)                0         \n",
      "                                                                 \n",
      " dense_14 (Dense)            (None, 32)                2080      \n",
      "                                                                 \n",
      " dense_15 (Dense)            (None, 5)                 165       \n",
      "                                                                 \n",
      "=================================================================\n",
      "Total params: 1,354,385\n",
      "Trainable params: 1,354,385\n",
      "Non-trainable params: 0\n",
      "_________________________________________________________________\n"
     ]
    }
   ],
   "source": [
    "# Définnission du MLP\n",
    "\n",
    "input_ = Input(shape=(1,), dtype=tf.string)\n",
    "\n",
    "x = vectorize_layer(input_)\n",
    "\n",
    "x = Embedding(vocab_size, embed_dim, name=\"Embedding\")(x)\n",
    "\n",
    "#On ajoute la couche RNN avec l'option return_sequences\n",
    "#La couche renvoie donc un tensor à chaque récurrence. \n",
    "#Le nombre de tensor en sortie est donc égale à recurrent_size\n",
    "x = LSTM(recurrent_size, return_sequences=True,\n",
    "         dropout=dropout_rate, recurrent_dropout=dropout_rate)(x)\n",
    "\n",
    "#L'AveragePooling réduit la dimension de sortie en faisant une moyenne sur tous les tensor. \n",
    "x = AveragePooling1D(pool_size=recurrent_size)(x)\n",
    "\n",
    "x = Flatten()(x)\n",
    "\n",
    "hidden = Dense(32, activation=\"relu\")(x)\n",
    "\n",
    "dropout = Dropout(0.3)(hidden)\n",
    "\n",
    "output_ = Dense(nb_classes, activation='softmax', dtype=tf.float64)(hidden)\n",
    "\n",
    "model_ap_4 = Model(input_, output_)\n",
    "    \n",
    "model_ap_4.summary()"
   ]
  },
  {
   "cell_type": "code",
   "execution_count": 94,
   "id": "59584e06",
   "metadata": {},
   "outputs": [],
   "source": [
    "# Compile the model\n",
    "f1 = F1Score(num_classes=nb_classes, average=\"weighted\", threshold=None)\n",
    "model_ap_4.compile(optimizer=\"adam\", loss='categorical_crossentropy', metrics=[\"accuracy\", f1])"
   ]
  },
  {
   "cell_type": "code",
   "execution_count": 102,
   "id": "9fe68f5a",
   "metadata": {},
   "outputs": [
    {
     "name": "stdout",
     "output_type": "stream",
     "text": [
      "Epoch 1/50\n",
      "157/157 [==============================] - 17s 106ms/step - loss: 0.6785 - accuracy: 0.7590 - f1_score: 0.7378 - val_loss: 1.0415 - val_accuracy: 0.6590 - val_f1_score: 0.6282\n",
      "Epoch 2/50\n",
      "157/157 [==============================] - 16s 101ms/step - loss: 0.6324 - accuracy: 0.7782 - f1_score: 0.7595 - val_loss: 1.0138 - val_accuracy: 0.6370 - val_f1_score: 0.6190\n",
      "Epoch 3/50\n",
      "157/157 [==============================] - 18s 116ms/step - loss: 0.5979 - accuracy: 0.7938 - f1_score: 0.7777 - val_loss: 1.0403 - val_accuracy: 0.6610 - val_f1_score: 0.6360\n",
      "Epoch 4/50\n",
      "157/157 [==============================] - 17s 107ms/step - loss: 0.5679 - accuracy: 0.8022 - f1_score: 0.7881 - val_loss: 1.0782 - val_accuracy: 0.6580 - val_f1_score: 0.6236\n",
      "Epoch 5/50\n",
      "157/157 [==============================] - 17s 108ms/step - loss: 0.5659 - accuracy: 0.8098 - f1_score: 0.7975 - val_loss: 1.1191 - val_accuracy: 0.6430 - val_f1_score: 0.6332\n",
      "Epoch 6/50\n",
      "157/157 [==============================] - 18s 118ms/step - loss: 0.5224 - accuracy: 0.8248 - f1_score: 0.8137 - val_loss: 1.2057 - val_accuracy: 0.6360 - val_f1_score: 0.6213\n",
      "Epoch 7/50\n",
      "157/157 [==============================] - 18s 113ms/step - loss: 0.4885 - accuracy: 0.8364 - f1_score: 0.8268 - val_loss: 1.2239 - val_accuracy: 0.6410 - val_f1_score: 0.6242\n",
      "Epoch 8/50\n",
      "157/157 [==============================] - ETA: 0s - loss: 0.4827 - accuracy: 0.8410 - f1_score: 0.8314Restoring model weights from the end of the best epoch: 3.\n",
      "157/157 [==============================] - 18s 113ms/step - loss: 0.4827 - accuracy: 0.8410 - f1_score: 0.8314 - val_loss: 1.1814 - val_accuracy: 0.6590 - val_f1_score: 0.6253\n",
      "Epoch 8: early stopping\n"
     ]
    }
   ],
   "source": [
    "# fit model using ealy stopping\n",
    "es = EarlyStopping(monitor='val_f1_score', mode='max', patience=5, restore_best_weights=True, verbose=1)\n",
    "history_ap_4 = model_ap_4.fit(np.array(X_train_prep), y_train_encoded,\n",
    "                    validation_data=(np.array(X_val_prep), y_val_encoded), \n",
    "                    epochs=50, callbacks=[es], verbose=1)"
   ]
  },
  {
   "cell_type": "code",
   "execution_count": 103,
   "id": "e5e0b7b8",
   "metadata": {},
   "outputs": [
    {
     "data": {
      "image/png": "[encoded data removed]",
      "text/plain": [
       "<Figure size 1296x432 with 2 Axes>"
      ]
     },
     "metadata": {
      "needs_background": "light"
     },
     "output_type": "display_data"
    }
   ],
   "source": [
    "babysit(history_ap_4)"
   ]
  },
  {
   "cell_type": "code",
   "execution_count": 109,
   "id": "8da36998",
   "metadata": {},
   "outputs": [
    {
     "name": "stdout",
     "output_type": "stream",
     "text": [
      "F1: 0.620000\n"
     ]
    }
   ],
   "source": [
    "# Evaluate the model\n",
    "f1.update_state(y_test_encoded, model_ap_4.predict(X_test))\n",
    "f1_model_ap_4 = round(f1.result().numpy(),2)\n",
    "print('F1: %f' % (f1_model_ap_4))"
   ]
  },
  {
   "cell_type": "markdown",
   "id": "7ed6b8bf",
   "metadata": {},
   "source": [
    "## 7) Conclusion"
   ]
  },
  {
   "cell_type": "code",
   "execution_count": 132,
   "id": "5452918d",
   "metadata": {},
   "outputs": [
    {
     "data": {
      "text/plain": [
       "{'baseline': 0.7,\n",
       " 'baseline_sp': 0.68,\n",
       " 'approche_1': 0.65,\n",
       " 'approche_2': 0.61,\n",
       " 'appoche_3': 0.55,\n",
       " 'approche_4': 0.62}"
      ]
     },
     "execution_count": 132,
     "metadata": {},
     "output_type": "execute_result"
    }
   ],
   "source": [
    "result = {\n",
    "    \"baseline\" : f1_baseline,\n",
    "    \"baseline_sp\" : f1_baseline_sp,\n",
    "    \"approche_1\" : f1_ap_1,\n",
    "    \"approche_2\" : f1_ap_2,\n",
    "    \"appoche_3\" : f1_ap_3,\n",
    "    \"approche_4\" : f1_model_ap_4\n",
    "}\n",
    "result"
   ]
  },
  {
   "cell_type": "code",
   "execution_count": 133,
   "id": "379b7671",
   "metadata": {},
   "outputs": [
    {
     "data": {
      "text/plain": [
       "<AxesSubplot:xlabel='model'>"
      ]
     },
     "execution_count": 133,
     "metadata": {},
     "output_type": "execute_result"
    },
    {
     "data": {
      "image/png": "[encoded data removed]",
      "text/plain": [
       "<Figure size 432x288 with 1 Axes>"
      ]
     },
     "metadata": {
      "needs_background": "light"
     },
     "output_type": "display_data"
    }
   ],
   "source": [
    "df = pd.DataFrame({\"model\":[i for i in result.keys()], \n",
    "\"f1 score\":[i for i in result.values()]})\n",
    "\n",
    "df.plot(x=\"model\", y=\"f1 score\", kind=\"bar\")"
   ]
  }
 ],
 "metadata": {
  "kernelspec": {
   "display_name": "Python 3 (ipykernel)",
   "language": "python",
   "name": "python3"
  },
  "language_info": {
   "codemirror_mode": {
    "name": "ipython",
    "version": 3
   },
   "file_extension": ".py",
   "mimetype": "text/x-python",
   "name": "python",
   "nbconvert_exporter": "python",
   "pygments_lexer": "ipython3",
   "version": "3.10.2"
  }
 },
 "nbformat": 4,
 "nbformat_minor": 5
}
